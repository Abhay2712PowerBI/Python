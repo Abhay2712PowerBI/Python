{
 "cells": [
  {
   "cell_type": "code",
   "execution_count": 4,
   "metadata": {},
   "outputs": [
    {
     "name": "stdout",
     "output_type": "stream",
     "text": [
      "Combined Financial Transactions:\n",
      "    id    type  amount                 date           description\n",
      "0    1  credit   150.0  2024-01-15 00:00:00        Salary Payment\n",
      "1    2   debit    50.0  2024-01-16 00:00:00      Grocery Shopping\n",
      "2    3  credit   200.0  2024-01-20 00:00:00     Investment Return\n",
      "3    4   debit    30.0  2024-01-22 00:00:00        Utilities Bill\n",
      "4    5   debit    75.0  2024-01-25 00:00:00            Dining Out\n",
      "5    6  credit   300.0  2024-01-30 00:00:00         Bonus Payment\n",
      "6    7   debit   100.0  2024-02-02 00:00:00          Rent Payment\n",
      "7    8  credit    50.0  2024-02-05 00:00:00        Freelance Work\n",
      "8    9   debit    20.0  2024-02-07 00:00:00           Coffee Shop\n",
      "9   10  credit   500.0  2024-02-10 00:00:00  Investment Dividends\n",
      "10   1  credit   150.0           2024-01-15        Salary Payment\n",
      "11   2   debit    50.0           2024-01-16      Grocery Shopping\n",
      "12   3  credit   200.0           2024-01-20     Investment Return\n",
      "13   4   debit    30.0           2024-01-22        Utilities Bill\n",
      "14   5   debit    75.0           2024-01-25            Dining Out\n",
      "15   6  credit   300.0           2024-01-30         Bonus Payment\n",
      "16   7   debit   100.0           2024-02-02          Rent Payment\n",
      "17   8  credit    50.0           2024-02-05        Freelance Work\n",
      "18   9   debit    20.0           2024-02-07           Coffee Shop\n",
      "19  10  credit   500.0           2024-02-10  Investment Dividends\n",
      "20  21   debit    60.0           2024-02-26    Lunch with Friends\n",
      "21  22  credit   300.0           2024-02-27     Freelance Payment\n",
      "22  23   debit   150.0           2024-02-28         Online Course\n",
      "23  24  credit   180.0           2024-03-01       Side Job Income\n",
      "24  25   debit    90.0           2024-03-02           Gas Station\n"
     ]
    }
   ],
   "source": [
    "import pandas as pd\n",
    "import json\n",
    "import xml.etree.ElementTree as ET\n",
    "\n",
    "# Function to read JSON data\n",
    "def read_json(file_path):\n",
    "    return pd.read_json(file_path)\n",
    "\n",
    "# Function to read XML data\n",
    "def read_xml(file_path):\n",
    "    tree = ET.parse(file_path)\n",
    "    root = tree.getroot()\n",
    "\n",
    "    # Prepare a list for DataFrame creation\n",
    "    transactions = []\n",
    "    for transaction in root.findall('transaction'):\n",
    "        trans_data = {\n",
    "            'id': int(transaction.find('id').text),\n",
    "            'type': transaction.find('type').text,\n",
    "            'amount': float(transaction.find('amount').text),\n",
    "            'date': transaction.find('date').text,\n",
    "            'description': transaction.find('description').text\n",
    "        }\n",
    "        transactions.append(trans_data)\n",
    "\n",
    "    return pd.DataFrame(transactions)\n",
    "\n",
    "# Function to read CSV data\n",
    "def read_csv(file_path):\n",
    "    return pd.read_csv(file_path)\n",
    "\n",
    "# Read data from files\n",
    "json_data = read_json('transactions.json')\n",
    "xml_data = read_xml('transactions.xml')\n",
    "csv_data = read_csv('transactions.csv')\n",
    "\n",
    "# Combine the data into a single DataFrame\n",
    "combined_data = pd.concat([json_data, xml_data, csv_data], ignore_index=True)\n",
    "\n",
    "# Display the combined data\n",
    "print(\"Combined Financial Transactions:\")\n",
    "print(combined_data)\n",
    "\n",
    "# Optionally, save the combined data to a new CSV file\n",
    "combined_data.to_csv('combined_transactions.csv', index=False)\n"
   ]
  },
  {
   "cell_type": "code",
   "execution_count": null,
   "metadata": {},
   "outputs": [],
   "source": []
  }
 ],
 "metadata": {
  "kernelspec": {
   "display_name": "Python 3",
   "language": "python",
   "name": "python3"
  },
  "language_info": {
   "codemirror_mode": {
    "name": "ipython",
    "version": 3
   },
   "file_extension": ".py",
   "mimetype": "text/x-python",
   "name": "python",
   "nbconvert_exporter": "python",
   "pygments_lexer": "ipython3",
   "version": "3.7.6"
  }
 },
 "nbformat": 4,
 "nbformat_minor": 4
}

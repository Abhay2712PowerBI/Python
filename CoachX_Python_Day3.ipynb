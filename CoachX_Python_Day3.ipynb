{
 "cells": [
  {
   "cell_type": "code",
   "execution_count": 7,
   "id": "d1760ea2-6b65-4349-93cc-97de21a308e6",
   "metadata": {},
   "outputs": [
    {
     "name": "stdout",
     "output_type": "stream",
     "text": [
      "()\n",
      "<class 'tuple'>\n"
     ]
    }
   ],
   "source": [
    "# Creating tuple\n",
    "tuple1 = ()\n",
    "print(tuple1)\n",
    "print(type(tuple1))\n",
    "\n"
   ]
  },
  {
   "cell_type": "code",
   "execution_count": 23,
   "id": "7e3aab07-477b-4a3b-8aa8-b8c30935c678",
   "metadata": {},
   "outputs": [
    {
     "name": "stdout",
     "output_type": "stream",
     "text": [
      "1\n",
      "3\n"
     ]
    }
   ],
   "source": [
    "tuple2 = (10,20,30,50,10,70,15,10.5)\n",
    "print(tuple2.count(20))\n",
    "print(tuple2.index(50))"
   ]
  },
  {
   "cell_type": "code",
   "execution_count": 15,
   "id": "22a7e2e4-344b-4e3b-abaf-c77bd3d46c93",
   "metadata": {},
   "outputs": [
    {
     "name": "stdout",
     "output_type": "stream",
     "text": [
      "<class 'tuple'>\n"
     ]
    }
   ],
   "source": [
    "tup1= (10,20,30,50,10,70,15,10.5)\n",
    "print(type(tup1))"
   ]
  },
  {
   "cell_type": "code",
   "execution_count": 25,
   "id": "92be4805-4277-45d4-8353-5558ab98d548",
   "metadata": {},
   "outputs": [],
   "source": [
    "tuple3 = (10,20,30,50,10,70,15,10.5,\"Alice\",\"IT\",\"Prague\")"
   ]
  },
  {
   "cell_type": "code",
   "execution_count": 27,
   "id": "2fa6c6f1-37a6-43af-8d2a-f3e5af2d1aa9",
   "metadata": {},
   "outputs": [
    {
     "data": {
      "text/plain": [
       "(10, 20, 30, 50, 10, 70, 15, 10.5, 'Alice', 'IT', 'Prague')"
      ]
     },
     "execution_count": 27,
     "metadata": {},
     "output_type": "execute_result"
    }
   ],
   "source": [
    "tuple3"
   ]
  },
  {
   "cell_type": "code",
   "execution_count": 29,
   "id": "9f7777d7-a95d-45df-bf8d-4c5bab46791e",
   "metadata": {},
   "outputs": [
    {
     "data": {
      "text/plain": [
       "70"
      ]
     },
     "execution_count": 29,
     "metadata": {},
     "output_type": "execute_result"
    }
   ],
   "source": [
    "tuple3[5]"
   ]
  },
  {
   "cell_type": "code",
   "execution_count": 49,
   "id": "2b2527bf-8f92-4033-8421-ede127f0283a",
   "metadata": {},
   "outputs": [
    {
     "data": {
      "text/plain": [
       "('Prague', 'IT', 'Alice', 10.5, 15, 70, 10, 50, 30, 20, 10)"
      ]
     },
     "execution_count": 49,
     "metadata": {},
     "output_type": "execute_result"
    }
   ],
   "source": [
    "tuple3[::-1]"
   ]
  },
  {
   "cell_type": "code",
   "execution_count": 35,
   "id": "e69f6ba2-661d-4ff8-9482-414c42c90460",
   "metadata": {},
   "outputs": [
    {
     "data": {
      "text/plain": [
       "10"
      ]
     },
     "execution_count": 35,
     "metadata": {},
     "output_type": "execute_result"
    }
   ],
   "source": [
    "tuple3[0]"
   ]
  },
  {
   "cell_type": "code",
   "execution_count": 37,
   "id": "08b32fe3-4f16-4fa6-986b-5d38823fb8a1",
   "metadata": {},
   "outputs": [
    {
     "data": {
      "text/plain": [
       "20"
      ]
     },
     "execution_count": 37,
     "metadata": {},
     "output_type": "execute_result"
    }
   ],
   "source": [
    "tuple3[1]"
   ]
  },
  {
   "cell_type": "code",
   "execution_count": 39,
   "id": "648ed9eb-539f-437f-b713-07f2a4908c60",
   "metadata": {},
   "outputs": [
    {
     "data": {
      "text/plain": [
       "70"
      ]
     },
     "execution_count": 39,
     "metadata": {},
     "output_type": "execute_result"
    }
   ],
   "source": [
    "tuple3[5]"
   ]
  },
  {
   "cell_type": "code",
   "execution_count": 43,
   "id": "5d9fc429-d0dd-40af-8c52-9bac35cd80e1",
   "metadata": {},
   "outputs": [
    {
     "data": {
      "text/plain": [
       "(50, 10, 70, 15, 10.5, 'Alice', 'IT')"
      ]
     },
     "execution_count": 43,
     "metadata": {},
     "output_type": "execute_result"
    }
   ],
   "source": [
    "tuple3[3:10]"
   ]
  },
  {
   "cell_type": "code",
   "execution_count": 51,
   "id": "63feb4f3-bc6d-4b49-b61b-e9f09f3b9bf6",
   "metadata": {},
   "outputs": [],
   "source": [
    "import pandas as pd"
   ]
  },
  {
   "cell_type": "code",
   "execution_count": 55,
   "id": "639aa895-6482-45c1-b6ad-984815f956b9",
   "metadata": {},
   "outputs": [],
   "source": [
    "df = pd.read_csv('C:/Python Data/Mall_Customers.csv')"
   ]
  },
  {
   "cell_type": "code",
   "execution_count": 57,
   "id": "5706315d-12d5-4c63-bceb-d5a6095221bf",
   "metadata": {},
   "outputs": [
    {
     "data": {
      "text/html": [
       "<div>\n",
       "<style scoped>\n",
       "    .dataframe tbody tr th:only-of-type {\n",
       "        vertical-align: middle;\n",
       "    }\n",
       "\n",
       "    .dataframe tbody tr th {\n",
       "        vertical-align: top;\n",
       "    }\n",
       "\n",
       "    .dataframe thead th {\n",
       "        text-align: right;\n",
       "    }\n",
       "</style>\n",
       "<table border=\"1\" class=\"dataframe\">\n",
       "  <thead>\n",
       "    <tr style=\"text-align: right;\">\n",
       "      <th></th>\n",
       "      <th>CustomerID</th>\n",
       "      <th>Gender</th>\n",
       "      <th>Age</th>\n",
       "      <th>Annual Income (k$)</th>\n",
       "      <th>Spending Score (1-100)</th>\n",
       "    </tr>\n",
       "  </thead>\n",
       "  <tbody>\n",
       "    <tr>\n",
       "      <th>0</th>\n",
       "      <td>1</td>\n",
       "      <td>Male</td>\n",
       "      <td>19</td>\n",
       "      <td>15</td>\n",
       "      <td>39</td>\n",
       "    </tr>\n",
       "    <tr>\n",
       "      <th>1</th>\n",
       "      <td>2</td>\n",
       "      <td>Male</td>\n",
       "      <td>21</td>\n",
       "      <td>15</td>\n",
       "      <td>81</td>\n",
       "    </tr>\n",
       "    <tr>\n",
       "      <th>2</th>\n",
       "      <td>3</td>\n",
       "      <td>Female</td>\n",
       "      <td>20</td>\n",
       "      <td>16</td>\n",
       "      <td>6</td>\n",
       "    </tr>\n",
       "    <tr>\n",
       "      <th>3</th>\n",
       "      <td>4</td>\n",
       "      <td>Female</td>\n",
       "      <td>23</td>\n",
       "      <td>16</td>\n",
       "      <td>77</td>\n",
       "    </tr>\n",
       "    <tr>\n",
       "      <th>4</th>\n",
       "      <td>5</td>\n",
       "      <td>Female</td>\n",
       "      <td>31</td>\n",
       "      <td>17</td>\n",
       "      <td>40</td>\n",
       "    </tr>\n",
       "  </tbody>\n",
       "</table>\n",
       "</div>"
      ],
      "text/plain": [
       "   CustomerID  Gender  Age  Annual Income (k$)  Spending Score (1-100)\n",
       "0           1    Male   19                  15                      39\n",
       "1           2    Male   21                  15                      81\n",
       "2           3  Female   20                  16                       6\n",
       "3           4  Female   23                  16                      77\n",
       "4           5  Female   31                  17                      40"
      ]
     },
     "execution_count": 57,
     "metadata": {},
     "output_type": "execute_result"
    }
   ],
   "source": [
    "df.head()"
   ]
  },
  {
   "cell_type": "code",
   "execution_count": 59,
   "id": "53aaf0e9-893b-4c05-93fd-c62b26a97509",
   "metadata": {},
   "outputs": [
    {
     "name": "stdout",
     "output_type": "stream",
     "text": [
      "     CustomerID  Gender  Age  Annual Income (k$)  Spending Score (1-100)\n",
      "0             1    Male   19                  15                      39\n",
      "1             2    Male   21                  15                      81\n",
      "2             3  Female   20                  16                       6\n",
      "3             4  Female   23                  16                      77\n",
      "4             5  Female   31                  17                      40\n",
      "..          ...     ...  ...                 ...                     ...\n",
      "245         246    Male   30                 297                      69\n",
      "246         247  Female   56                 311                      14\n",
      "247         248    Male   29                 313                      90\n",
      "248         249  Female   19                 316                      32\n",
      "249         250  Female   31                 325                      86\n",
      "\n",
      "[250 rows x 5 columns]\n"
     ]
    }
   ],
   "source": [
    "print(df)"
   ]
  },
  {
   "cell_type": "code",
   "execution_count": 61,
   "id": "042ceed0-650b-4f1a-a85b-d4fda4090fa0",
   "metadata": {},
   "outputs": [
    {
     "data": {
      "text/plain": [
       "0      19\n",
       "1      21\n",
       "2      20\n",
       "3      23\n",
       "4      31\n",
       "       ..\n",
       "245    30\n",
       "246    56\n",
       "247    29\n",
       "248    19\n",
       "249    31\n",
       "Name: Age, Length: 250, dtype: int64"
      ]
     },
     "execution_count": 61,
     "metadata": {},
     "output_type": "execute_result"
    }
   ],
   "source": [
    "df['Age']"
   ]
  },
  {
   "cell_type": "code",
   "execution_count": 67,
   "id": "b918bbf2-cc83-4c54-8ad5-2dedd298fbe4",
   "metadata": {},
   "outputs": [
    {
     "data": {
      "text/plain": [
       "10    67\n",
       "11    35\n",
       "12    58\n",
       "13    24\n",
       "14    37\n",
       "15    22\n",
       "16    35\n",
       "17    20\n",
       "18    52\n",
       "19    35\n",
       "20    35\n",
       "21    25\n",
       "22    46\n",
       "23    31\n",
       "24    54\n",
       "25    29\n",
       "26    45\n",
       "27    35\n",
       "28    40\n",
       "29    23\n",
       "30    60\n",
       "31    21\n",
       "32    53\n",
       "33    18\n",
       "34    49\n",
       "35    21\n",
       "36    42\n",
       "37    30\n",
       "38    36\n",
       "39    20\n",
       "40    65\n",
       "41    24\n",
       "42    48\n",
       "43    31\n",
       "44    49\n",
       "45    24\n",
       "46    50\n",
       "47    27\n",
       "48    29\n",
       "49    31\n",
       "Name: Age, dtype: int64"
      ]
     },
     "execution_count": 67,
     "metadata": {},
     "output_type": "execute_result"
    }
   ],
   "source": [
    "df['Age'][10:50]"
   ]
  },
  {
   "cell_type": "code",
   "execution_count": 69,
   "id": "d8448317-3535-41e9-beb0-26deddc66c78",
   "metadata": {},
   "outputs": [],
   "source": [
    "student = [(\"Abhay\",\"AT001\",4.5),(\"Alice\",\"AL002\",4.0)]"
   ]
  },
  {
   "cell_type": "code",
   "execution_count": 71,
   "id": "424bb51d-87f8-4056-84bf-aba0fab068e3",
   "metadata": {},
   "outputs": [
    {
     "data": {
      "text/plain": [
       "(10, 20, 30, 50, 10, 70, 15, 10.5)"
      ]
     },
     "execution_count": 71,
     "metadata": {},
     "output_type": "execute_result"
    }
   ],
   "source": [
    "tuple2"
   ]
  },
  {
   "cell_type": "code",
   "execution_count": 73,
   "id": "087b8c19-6445-4155-b270-caa1f9c6188c",
   "metadata": {},
   "outputs": [],
   "source": [
    "tuple4 = (10,17,25)\n",
    "result = tuple2 + tuple4"
   ]
  },
  {
   "cell_type": "code",
   "execution_count": 75,
   "id": "1622d1f6-24ee-457e-9cc0-2cbbe7a3abd5",
   "metadata": {},
   "outputs": [
    {
     "data": {
      "text/plain": [
       "(10, 20, 30, 50, 10, 70, 15, 10.5, 10, 17, 25)"
      ]
     },
     "execution_count": 75,
     "metadata": {},
     "output_type": "execute_result"
    }
   ],
   "source": [
    "result"
   ]
  },
  {
   "cell_type": "code",
   "execution_count": 77,
   "id": "0963bdc9-b5a8-4e65-b14a-391a16cd892c",
   "metadata": {},
   "outputs": [],
   "source": [
    "tuple4 = result"
   ]
  },
  {
   "cell_type": "code",
   "execution_count": 79,
   "id": "37390977-6153-4a8b-b858-eebd48495ada",
   "metadata": {},
   "outputs": [
    {
     "data": {
      "text/plain": [
       "(10, 20, 30, 50, 10, 70, 15, 10.5, 10, 17, 25)"
      ]
     },
     "execution_count": 79,
     "metadata": {},
     "output_type": "execute_result"
    }
   ],
   "source": [
    "tuple4"
   ]
  },
  {
   "cell_type": "code",
   "execution_count": 81,
   "id": "c914e5a7-9f9c-4a66-aa7d-a0b17a214705",
   "metadata": {},
   "outputs": [
    {
     "data": {
      "text/plain": [
       "30"
      ]
     },
     "execution_count": 81,
     "metadata": {},
     "output_type": "execute_result"
    }
   ],
   "source": [
    "tuple4[2]"
   ]
  },
  {
   "cell_type": "code",
   "execution_count": 83,
   "id": "08885d32-f1ce-4ffd-8a1d-4e849ad23d7b",
   "metadata": {},
   "outputs": [
    {
     "ename": "TypeError",
     "evalue": "'tuple' object does not support item assignment",
     "output_type": "error",
     "traceback": [
      "\u001b[1;31m---------------------------------------------------------------------------\u001b[0m",
      "\u001b[1;31mTypeError\u001b[0m                                 Traceback (most recent call last)",
      "Cell \u001b[1;32mIn[83], line 1\u001b[0m\n\u001b[1;32m----> 1\u001b[0m tuple4[\u001b[38;5;241m2\u001b[39m]\u001b[38;5;241m=\u001b[39m\u001b[38;5;241m300\u001b[39m\n",
      "\u001b[1;31mTypeError\u001b[0m: 'tuple' object does not support item assignment"
     ]
    }
   ],
   "source": [
    "tuple4[2]=300"
   ]
  },
  {
   "cell_type": "code",
   "execution_count": 85,
   "id": "a3bb0a8d-587a-4641-8d86-75bac25df33e",
   "metadata": {},
   "outputs": [],
   "source": [
    "list4= list(tuple4)"
   ]
  },
  {
   "cell_type": "code",
   "execution_count": 87,
   "id": "502c0daf-d591-4c1f-995f-3d1ce07a55e7",
   "metadata": {},
   "outputs": [
    {
     "data": {
      "text/plain": [
       "[10, 20, 30, 50, 10, 70, 15, 10.5, 10, 17, 25]"
      ]
     },
     "execution_count": 87,
     "metadata": {},
     "output_type": "execute_result"
    }
   ],
   "source": [
    "list4"
   ]
  },
  {
   "cell_type": "code",
   "execution_count": 89,
   "id": "fbd3b2a4-0a38-4fe1-8317-0b97939c7dd3",
   "metadata": {},
   "outputs": [
    {
     "data": {
      "text/plain": [
       "30"
      ]
     },
     "execution_count": 89,
     "metadata": {},
     "output_type": "execute_result"
    }
   ],
   "source": [
    "list4[2]"
   ]
  },
  {
   "cell_type": "code",
   "execution_count": 93,
   "id": "3fd7ce6b-4275-45f3-85de-e2eeb9aa56a7",
   "metadata": {},
   "outputs": [],
   "source": [
    "list4[2]=3000"
   ]
  },
  {
   "cell_type": "code",
   "execution_count": 95,
   "id": "f68e7eb6-7b1c-492c-89c8-f7daab395f52",
   "metadata": {},
   "outputs": [
    {
     "data": {
      "text/plain": [
       "[10, 20, 3000, 50, 10, 70, 15, 10.5, 10, 17, 25]"
      ]
     },
     "execution_count": 95,
     "metadata": {},
     "output_type": "execute_result"
    }
   ],
   "source": [
    "list4"
   ]
  },
  {
   "cell_type": "code",
   "execution_count": 97,
   "id": "94e168d0-4466-4e23-97aa-f94a7a015bc6",
   "metadata": {},
   "outputs": [
    {
     "data": {
      "text/plain": [
       "(10, 20, 3000, 50, 10, 70, 15, 10.5, 10, 17, 25)"
      ]
     },
     "execution_count": 97,
     "metadata": {},
     "output_type": "execute_result"
    }
   ],
   "source": [
    "tuple4 = tuple(list4)\n",
    "tuple4"
   ]
  },
  {
   "cell_type": "code",
   "execution_count": 99,
   "id": "5bf2fdfd-4809-4a35-878f-21d5511e6398",
   "metadata": {},
   "outputs": [
    {
     "data": {
      "text/plain": [
       "[150.25, 152.3, 149.8, 151.0, 153.75]"
      ]
     },
     "execution_count": 99,
     "metadata": {},
     "output_type": "execute_result"
    }
   ],
   "source": [
    "# Example: Storing daily closing stock prices for a week\n",
    "stock_prices = [150.25, 152.30, 149.80, 151.00, 153.75]\n",
    "stock_prices\n",
    "\n"
   ]
  },
  {
   "cell_type": "code",
   "execution_count": 101,
   "id": "ff302695-6d20-4fc3-80b4-82135fa5a319",
   "metadata": {},
   "outputs": [],
   "source": [
    "# Average = total sum of elements/ count of elements\n",
    "average_price = sum(stock_prices)/len(stock_prices)"
   ]
  },
  {
   "cell_type": "code",
   "execution_count": 107,
   "id": "9fe34aba-00f2-4a1b-a884-484e49264457",
   "metadata": {},
   "outputs": [
    {
     "name": "stdout",
     "output_type": "stream",
     "text": [
      "Average Price of stocks for one week : $151.42\n"
     ]
    }
   ],
   "source": [
    "print(f'Average Price of stocks for one week : ${round(average_price,2)}')"
   ]
  },
  {
   "cell_type": "code",
   "execution_count": 109,
   "id": "afb5af7a-be29-45e8-b310-c93869c801fe",
   "metadata": {},
   "outputs": [],
   "source": [
    "import builtins"
   ]
  },
  {
   "cell_type": "code",
   "execution_count": 111,
   "id": "41087066-c294-4592-be7c-6d7dd9c6a339",
   "metadata": {},
   "outputs": [
    {
     "data": {
      "text/plain": [
       "['ArithmeticError',\n",
       " 'AssertionError',\n",
       " 'AttributeError',\n",
       " 'BaseException',\n",
       " 'BaseExceptionGroup',\n",
       " 'BlockingIOError',\n",
       " 'BrokenPipeError',\n",
       " 'BufferError',\n",
       " 'BytesWarning',\n",
       " 'ChildProcessError',\n",
       " 'ConnectionAbortedError',\n",
       " 'ConnectionError',\n",
       " 'ConnectionRefusedError',\n",
       " 'ConnectionResetError',\n",
       " 'DeprecationWarning',\n",
       " 'EOFError',\n",
       " 'Ellipsis',\n",
       " 'EncodingWarning',\n",
       " 'EnvironmentError',\n",
       " 'Exception',\n",
       " 'ExceptionGroup',\n",
       " 'False',\n",
       " 'FileExistsError',\n",
       " 'FileNotFoundError',\n",
       " 'FloatingPointError',\n",
       " 'FutureWarning',\n",
       " 'GeneratorExit',\n",
       " 'IOError',\n",
       " 'ImportError',\n",
       " 'ImportWarning',\n",
       " 'IndentationError',\n",
       " 'IndexError',\n",
       " 'InterruptedError',\n",
       " 'IsADirectoryError',\n",
       " 'KeyError',\n",
       " 'KeyboardInterrupt',\n",
       " 'LookupError',\n",
       " 'MemoryError',\n",
       " 'ModuleNotFoundError',\n",
       " 'NameError',\n",
       " 'None',\n",
       " 'NotADirectoryError',\n",
       " 'NotImplemented',\n",
       " 'NotImplementedError',\n",
       " 'OSError',\n",
       " 'OverflowError',\n",
       " 'PendingDeprecationWarning',\n",
       " 'PermissionError',\n",
       " 'ProcessLookupError',\n",
       " 'RecursionError',\n",
       " 'ReferenceError',\n",
       " 'ResourceWarning',\n",
       " 'RuntimeError',\n",
       " 'RuntimeWarning',\n",
       " 'StopAsyncIteration',\n",
       " 'StopIteration',\n",
       " 'SyntaxError',\n",
       " 'SyntaxWarning',\n",
       " 'SystemError',\n",
       " 'SystemExit',\n",
       " 'TabError',\n",
       " 'TimeoutError',\n",
       " 'True',\n",
       " 'TypeError',\n",
       " 'UnboundLocalError',\n",
       " 'UnicodeDecodeError',\n",
       " 'UnicodeEncodeError',\n",
       " 'UnicodeError',\n",
       " 'UnicodeTranslateError',\n",
       " 'UnicodeWarning',\n",
       " 'UserWarning',\n",
       " 'ValueError',\n",
       " 'Warning',\n",
       " 'WindowsError',\n",
       " 'ZeroDivisionError',\n",
       " '__IPYTHON__',\n",
       " '__build_class__',\n",
       " '__debug__',\n",
       " '__doc__',\n",
       " '__import__',\n",
       " '__loader__',\n",
       " '__name__',\n",
       " '__package__',\n",
       " '__spec__',\n",
       " 'abs',\n",
       " 'aiter',\n",
       " 'all',\n",
       " 'anext',\n",
       " 'any',\n",
       " 'ascii',\n",
       " 'bin',\n",
       " 'bool',\n",
       " 'breakpoint',\n",
       " 'bytearray',\n",
       " 'bytes',\n",
       " 'callable',\n",
       " 'chr',\n",
       " 'classmethod',\n",
       " 'compile',\n",
       " 'complex',\n",
       " 'copyright',\n",
       " 'credits',\n",
       " 'delattr',\n",
       " 'dict',\n",
       " 'dir',\n",
       " 'display',\n",
       " 'divmod',\n",
       " 'enumerate',\n",
       " 'eval',\n",
       " 'exec',\n",
       " 'execfile',\n",
       " 'filter',\n",
       " 'float',\n",
       " 'format',\n",
       " 'frozenset',\n",
       " 'get_ipython',\n",
       " 'getattr',\n",
       " 'globals',\n",
       " 'hasattr',\n",
       " 'hash',\n",
       " 'help',\n",
       " 'hex',\n",
       " 'id',\n",
       " 'input',\n",
       " 'int',\n",
       " 'isinstance',\n",
       " 'issubclass',\n",
       " 'iter',\n",
       " 'len',\n",
       " 'license',\n",
       " 'list',\n",
       " 'locals',\n",
       " 'map',\n",
       " 'max',\n",
       " 'memoryview',\n",
       " 'min',\n",
       " 'next',\n",
       " 'object',\n",
       " 'oct',\n",
       " 'open',\n",
       " 'ord',\n",
       " 'pow',\n",
       " 'print',\n",
       " 'property',\n",
       " 'range',\n",
       " 'repr',\n",
       " 'reversed',\n",
       " 'round',\n",
       " 'runfile',\n",
       " 'set',\n",
       " 'setattr',\n",
       " 'slice',\n",
       " 'sorted',\n",
       " 'staticmethod',\n",
       " 'str',\n",
       " 'sum',\n",
       " 'super',\n",
       " 'tuple',\n",
       " 'type',\n",
       " 'vars',\n",
       " 'zip']"
      ]
     },
     "execution_count": 111,
     "metadata": {},
     "output_type": "execute_result"
    }
   ],
   "source": [
    "dir(builtins)"
   ]
  },
  {
   "cell_type": "code",
   "execution_count": 115,
   "id": "0c910e7f-32c8-4c98-bb41-54b5123e0059",
   "metadata": {},
   "outputs": [
    {
     "name": "stdout",
     "output_type": "stream",
     "text": [
      "Maximum stock Price: $ 153.75\n",
      "Minimum stock Price: $ 149.8\n"
     ]
    }
   ],
   "source": [
    "highest_price = max(stock_prices)\n",
    "lowest_price = min(stock_prices)\n",
    "\n",
    "print(\"Maximum stock Price: $\",highest_price)\n",
    "print(\"Minimum stock Price: $\",lowest_price)"
   ]
  },
  {
   "cell_type": "code",
   "execution_count": 125,
   "id": "7fbeaa66-365b-4560-b50a-f32e9cba97a2",
   "metadata": {},
   "outputs": [],
   "source": [
    "dict1 = {\n",
    "    \"Customer ID\": [1,2,3,4,5],\n",
    "    \"Gender\": [\"F\",\"M\",\"F\",\"F\",\"M\"],\n",
    "    \"Age\":[20,30,19,35,25],\n",
    "    \"Annual Income($k)\": [30,37,50,27,90],\n",
    "    \"Spending Score\": [39,40,10,20,25]\n",
    "}"
   ]
  },
  {
   "cell_type": "code",
   "execution_count": 127,
   "id": "ba5fe4b6-ca4b-4b0e-ac14-e6db9582d63c",
   "metadata": {},
   "outputs": [
    {
     "data": {
      "text/plain": [
       "{'Customer ID': [1, 2, 3, 4, 5],\n",
       " 'Gender': ['F', 'M', 'F', 'F', 'M'],\n",
       " 'Age': [20, 30, 19, 35, 25],\n",
       " 'Annual Income($k)': [30, 37, 50, 27, 90],\n",
       " 'Spending Score': [39, 40, 10, 20, 25]}"
      ]
     },
     "execution_count": 127,
     "metadata": {},
     "output_type": "execute_result"
    }
   ],
   "source": [
    "dict1"
   ]
  },
  {
   "cell_type": "code",
   "execution_count": 129,
   "id": "61bb6ca6-4c0e-4661-a5da-867be49497bd",
   "metadata": {},
   "outputs": [
    {
     "data": {
      "text/plain": [
       "[1, 2, 3, 4, 5]"
      ]
     },
     "execution_count": 129,
     "metadata": {},
     "output_type": "execute_result"
    }
   ],
   "source": [
    "dict1['Customer ID']"
   ]
  },
  {
   "cell_type": "code",
   "execution_count": 131,
   "id": "855cf5f5-d5b3-44da-8071-76656e74b97d",
   "metadata": {},
   "outputs": [
    {
     "data": {
      "text/plain": [
       "[39, 40, 10, 20, 25]"
      ]
     },
     "execution_count": 131,
     "metadata": {},
     "output_type": "execute_result"
    }
   ],
   "source": [
    "dict1['Spending Score']"
   ]
  },
  {
   "cell_type": "code",
   "execution_count": 133,
   "id": "587cf90e-39a7-438c-b1da-492c880aca2a",
   "metadata": {},
   "outputs": [],
   "source": [
    "dict1['Spending Score'][1]=30"
   ]
  },
  {
   "cell_type": "code",
   "execution_count": 135,
   "id": "f926961c-b04e-48a2-822d-97a126acd515",
   "metadata": {},
   "outputs": [
    {
     "data": {
      "text/plain": [
       "[39, 30, 10, 20, 25]"
      ]
     },
     "execution_count": 135,
     "metadata": {},
     "output_type": "execute_result"
    }
   ],
   "source": [
    "dict1['Spending Score']"
   ]
  },
  {
   "cell_type": "code",
   "execution_count": 137,
   "id": "99461f3c-17ad-455d-aa88-cc53a3f345f5",
   "metadata": {},
   "outputs": [
    {
     "data": {
      "text/plain": [
       "dict_keys(['Customer ID', 'Gender', 'Age', 'Annual Income($k)', 'Spending Score'])"
      ]
     },
     "execution_count": 137,
     "metadata": {},
     "output_type": "execute_result"
    }
   ],
   "source": [
    "dict1.keys()"
   ]
  },
  {
   "cell_type": "code",
   "execution_count": 139,
   "id": "3d5fbd5e-3f38-4ca9-9382-8a5879a25569",
   "metadata": {},
   "outputs": [
    {
     "data": {
      "text/plain": [
       "dict_values([[1, 2, 3, 4, 5], ['F', 'M', 'F', 'F', 'M'], [20, 30, 19, 35, 25], [30, 37, 50, 27, 90], [39, 30, 10, 20, 25]])"
      ]
     },
     "execution_count": 139,
     "metadata": {},
     "output_type": "execute_result"
    }
   ],
   "source": [
    "dict1.values()"
   ]
  },
  {
   "cell_type": "code",
   "execution_count": 141,
   "id": "186d35f3-17ff-4b53-9f8c-c8dfb73f86e4",
   "metadata": {},
   "outputs": [],
   "source": [
    "df = pd.DataFrame(dict1)"
   ]
  },
  {
   "cell_type": "code",
   "execution_count": 143,
   "id": "f4ddf982-d8d2-4dbc-9da4-4e5112b4ece1",
   "metadata": {},
   "outputs": [
    {
     "name": "stdout",
     "output_type": "stream",
     "text": [
      "   Customer ID Gender  Age  Annual Income($k)  Spending Score\n",
      "0            1      F   20                 30              39\n",
      "1            2      M   30                 37              30\n",
      "2            3      F   19                 50              10\n",
      "3            4      F   35                 27              20\n",
      "4            5      M   25                 90              25\n"
     ]
    }
   ],
   "source": [
    "print(df)"
   ]
  },
  {
   "cell_type": "code",
   "execution_count": 145,
   "id": "3a725cb9-8f84-4aaf-9089-1da9f4c5f760",
   "metadata": {},
   "outputs": [
    {
     "name": "stdout",
     "output_type": "stream",
     "text": [
      "dict_items([('Customer ID', [1, 2, 3, 4, 5]), ('Gender', ['F', 'M', 'F', 'F', 'M']), ('Age', [20, 30, 19, 35, 25]), ('Annual Income($k)', [30, 37, 50, 27, 90]), ('Spending Score', [39, 30, 10, 20, 25])])\n"
     ]
    }
   ],
   "source": [
    "print(dict1.items())"
   ]
  },
  {
   "cell_type": "code",
   "execution_count": 147,
   "id": "f3495996-00f0-4704-9287-5d915b6f3e46",
   "metadata": {},
   "outputs": [
    {
     "data": {
      "text/plain": [
       "{'Customer ID': [1, 2, 3, 4, 5],\n",
       " 'Gender': ['F', 'M', 'F', 'F', 'M'],\n",
       " 'Age': [20, 30, 19, 35, 25],\n",
       " 'Annual Income($k)': [30, 37, 50, 27, 90],\n",
       " 'Spending Score': [39, 30, 10, 20, 25]}"
      ]
     },
     "execution_count": 147,
     "metadata": {},
     "output_type": "execute_result"
    }
   ],
   "source": [
    "dict1"
   ]
  },
  {
   "cell_type": "code",
   "execution_count": 153,
   "id": "e8629727-ed32-4b7c-afa9-f0248c885c9b",
   "metadata": {},
   "outputs": [
    {
     "name": "stdout",
     "output_type": "stream",
     "text": [
      "Not Found\n"
     ]
    }
   ],
   "source": [
    "# Conditional statement\n",
    "if \"Gender\" in dict1:\n",
    "    print(\"Yes attribute available\")\n",
    "else:\n",
    "    print(\"Not Found\")"
   ]
  },
  {
   "cell_type": "code",
   "execution_count": 155,
   "id": "979af8e6-095b-4f97-a72e-3b56510a5b64",
   "metadata": {},
   "outputs": [
    {
     "data": {
      "text/plain": [
       "(10, 20, 3000, 50, 10, 70, 15, 10.5, 10, 17, 25)"
      ]
     },
     "execution_count": 155,
     "metadata": {},
     "output_type": "execute_result"
    }
   ],
   "source": [
    "tuple4"
   ]
  },
  {
   "cell_type": "code",
   "execution_count": 159,
   "id": "432c9894-dfac-42f0-a74f-845bf4108679",
   "metadata": {},
   "outputs": [],
   "source": [
    "list5 = list(tuple4)"
   ]
  },
  {
   "cell_type": "code",
   "execution_count": 169,
   "id": "559e19e6-1065-4095-a4ad-bf9863130dba",
   "metadata": {},
   "outputs": [
    {
     "data": {
      "text/plain": [
       "[10, 20, 3000, 50, 10, 70, 15, 10.5, 10, 17, 25]"
      ]
     },
     "execution_count": 169,
     "metadata": {},
     "output_type": "execute_result"
    }
   ],
   "source": [
    "list5"
   ]
  },
  {
   "cell_type": "code",
   "execution_count": 171,
   "id": "8b41f176-d7b2-4c37-bb38-9f145684f3d5",
   "metadata": {},
   "outputs": [
    {
     "ename": "TypeError",
     "evalue": "'set' object is not callable",
     "output_type": "error",
     "traceback": [
      "\u001b[1;31m---------------------------------------------------------------------------\u001b[0m",
      "\u001b[1;31mTypeError\u001b[0m                                 Traceback (most recent call last)",
      "Cell \u001b[1;32mIn[171], line 1\u001b[0m\n\u001b[1;32m----> 1\u001b[0m set1 \u001b[38;5;241m=\u001b[39m \u001b[38;5;28mset\u001b[39m(list5)\n",
      "\u001b[1;31mTypeError\u001b[0m: 'set' object is not callable"
     ]
    }
   ],
   "source": [
    "set1 = set(list5)"
   ]
  },
  {
   "cell_type": "code",
   "execution_count": 165,
   "id": "6c117d69-1af2-43f2-8438-1a5a2755cd27",
   "metadata": {},
   "outputs": [
    {
     "ename": "NameError",
     "evalue": "name 'set1' is not defined",
     "output_type": "error",
     "traceback": [
      "\u001b[1;31m---------------------------------------------------------------------------\u001b[0m",
      "\u001b[1;31mNameError\u001b[0m                                 Traceback (most recent call last)",
      "Cell \u001b[1;32mIn[165], line 1\u001b[0m\n\u001b[1;32m----> 1\u001b[0m set1\n",
      "\u001b[1;31mNameError\u001b[0m: name 'set1' is not defined"
     ]
    }
   ],
   "source": [
    "set1"
   ]
  },
  {
   "cell_type": "code",
   "execution_count": null,
   "id": "35951bb4-8bdc-4a72-a7ee-edd95e10e08f",
   "metadata": {},
   "outputs": [],
   "source": []
  }
 ],
 "metadata": {
  "kernelspec": {
   "display_name": "Python 3 (ipykernel)",
   "language": "python",
   "name": "python3"
  },
  "language_info": {
   "codemirror_mode": {
    "name": "ipython",
    "version": 3
   },
   "file_extension": ".py",
   "mimetype": "text/x-python",
   "name": "python",
   "nbconvert_exporter": "python",
   "pygments_lexer": "ipython3",
   "version": "3.12.4"
  }
 },
 "nbformat": 4,
 "nbformat_minor": 5
}

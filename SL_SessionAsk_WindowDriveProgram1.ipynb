{
 "cells": [
  {
   "cell_type": "code",
   "execution_count": 3,
   "id": "595b77b2-9cf5-4c4a-b21a-4b822bffa950",
   "metadata": {},
   "outputs": [
    {
     "name": "stdout",
     "output_type": "stream",
     "text": [
      "Collecting wmi\n",
      "  Using cached WMI-1.5.1-py2.py3-none-any.whl.metadata (3.6 kB)\n",
      "Requirement already satisfied: pywin32 in c:\\users\\leno\\updated anaconda\\lib\\site-packages (from wmi) (305.1)\n",
      "Downloading WMI-1.5.1-py2.py3-none-any.whl (28 kB)\n",
      "Installing collected packages: wmi\n",
      "Successfully installed wmi-1.5.1\n",
      "Note: you may need to restart the kernel to use updated packages.\n"
     ]
    }
   ],
   "source": [
    "#  Python code to read drive details (Drive letter, caapcity, Free space) from Windows server including Mountpoints\n",
    "pip install wmi "
   ]
  },
  {
   "cell_type": "code",
   "execution_count": 1,
   "id": "ebda1c26-d0ce-4a1f-80e0-30b1aefb5d98",
   "metadata": {},
   "outputs": [
    {
     "name": "stdout",
     "output_type": "stream",
     "text": [
      "Retrieving drive details using WMI...\n",
      "Drive  Volume Name     File System Total (GB) Free (GB)  Used (GB)  Free %  \n",
      "----------------------------------------------------------------------\n",
      "C:     N/A             NTFS     237.33     10.43      226.9      4.4     %\n"
     ]
    },
    {
     "name": "stderr",
     "output_type": "stream",
     "text": [
      "Win32 exception occurred releasing IUnknown at 0x000001B73EDF7B60\n",
      "Win32 exception occurred releasing IUnknown at 0x000001B73EE08920\n",
      "Win32 exception occurred releasing IUnknown at 0x000001B73EE07F20\n",
      "Win32 exception occurred releasing IUnknown at 0x000001B73EE091E0\n",
      "Win32 exception occurred releasing IUnknown at 0x000001B73EE07E80\n",
      "Win32 exception occurred releasing IUnknown at 0x000001B73EE07FC0\n",
      "Win32 exception occurred releasing IUnknown at 0x000001B73EE08560\n"
     ]
    }
   ],
   "source": [
    "import wmi\n",
    "import pythoncom\n",
    "import threading\n",
    "\n",
    "def get_drive_details_wmi():\n",
    "    \"\"\"Get drive details using WMI\"\"\"\n",
    "    pythoncom.CoInitialize()  # Initialize COM for this thread\n",
    "    \n",
    "    try:\n",
    "        c = wmi.WMI()\n",
    "        drive_details = []\n",
    "        \n",
    "        # Get logical disks\n",
    "        for disk in c.Win32_LogicalDisk():\n",
    "            if disk.DriveType == 3:  # Fixed drives\n",
    "                try:\n",
    "                    total_size = int(disk.Size) if disk.Size else 0\n",
    "                    free_space = int(disk.FreeSpace) if disk.FreeSpace else 0\n",
    "                    used_space = total_size - free_space\n",
    "                    \n",
    "                    drive_info = {\n",
    "                        'drive_letter': disk.DeviceID,\n",
    "                        'volume_name': disk.VolumeName or 'N/A',\n",
    "                        'file_system': disk.FileSystem or 'N/A',\n",
    "                        'total_size_gb': round(total_size / (1024**3), 2),\n",
    "                        'free_space_gb': round(free_space / (1024**3), 2),\n",
    "                        'used_space_gb': round(used_space / (1024**3), 2),\n",
    "                        'free_space_percent': round((free_space / total_size) * 100, 2) if total_size > 0 else 0\n",
    "                    }\n",
    "                    \n",
    "                    drive_details.append(drive_info)\n",
    "                    \n",
    "                except (ValueError, AttributeError):\n",
    "                    continue\n",
    "        \n",
    "        return drive_details\n",
    "        \n",
    "    finally:\n",
    "        pythoncom.CoUninitialize()\n",
    "\n",
    "def print_drive_details_wmi(drive_details):\n",
    "    \"\"\"Print WMI drive details\"\"\"\n",
    "    print(f\"{'Drive':<6} {'Volume Name':<15} {'File System':<8} {'Total (GB)':<10} {'Free (GB)':<10} {'Used (GB)':<10} {'Free %':<8}\")\n",
    "    print(\"-\" * 70)\n",
    "    \n",
    "    for drive in drive_details:\n",
    "        print(f\"{drive['drive_letter']:<6} {drive['volume_name']:<15} {drive['file_system']:<8} \"\n",
    "              f\"{drive['total_size_gb']:<10} {drive['free_space_gb']:<10} {drive['used_space_gb']:<10} \"\n",
    "              f\"{drive['free_space_percent']:<8}%\")\n",
    "\n",
    "if __name__ == \"__main__\":\n",
    "    print(\"Retrieving drive details using WMI...\")\n",
    "    drives = get_drive_details_wmi()\n",
    "    print_drive_details_wmi(drives)"
   ]
  },
  {
   "cell_type": "code",
   "execution_count": 7,
   "id": "ddef6641-8979-48f3-8d1a-dc476dfc1b85",
   "metadata": {},
   "outputs": [
    {
     "name": "stdout",
     "output_type": "stream",
     "text": [
      "Drive           Capacity (GB)        Free Space (GB)      File System         \n",
      "================================================================================\n",
      "C:              237.33               10.43                NTFS                \n",
      "\n",
      "Mount Points:\n",
      "================================================================================\n",
      "Label: System Reserved, Capacity: 0.57 GB, Free: 0.53 GB, Path: \\\\?\\Volume{974cd22e-0000-0000-0000-100000000000}\\\n"
     ]
    }
   ],
   "source": [
    "import wmi\n",
    "import pythoncom\n",
    "\n",
    "def get_drive_details():\n",
    "    # Initialize COM before WMI calls\n",
    "    pythoncom.CoInitialize()\n",
    "    c = wmi.WMI()\n",
    "    \n",
    "    print(\"{:<15} {:<20} {:<20} {:<20}\".format(\"Drive\", \"Capacity (GB)\", \"Free Space (GB)\", \"File System\"))\n",
    "    print(\"=\"*80)\n",
    "\n",
    "    for disk in c.Win32_LogicalDisk(DriveType=3):  # DriveType=3 = Local Disk\n",
    "        drive_letter = disk.DeviceID\n",
    "        file_system = disk.FileSystem if disk.FileSystem else \"Unknown\"\n",
    "        \n",
    "        capacity_gb = int(disk.Size) / (1024**3) if disk.Size else 0\n",
    "        free_space_gb = int(disk.FreeSpace) / (1024**3) if disk.FreeSpace else 0\n",
    "        \n",
    "        print(\"{:<15} {:<20.2f} {:<20.2f} {:<20}\".format(\n",
    "            drive_letter, capacity_gb, free_space_gb, file_system\n",
    "        ))\n",
    "    pythoncom.CoUninitialize()\n",
    "\n",
    "def get_mountpoints():\n",
    "    pythoncom.CoInitialize()\n",
    "    c = wmi.WMI()\n",
    "    print(\"\\nMount Points:\")\n",
    "    print(\"=\"*80)\n",
    "    for volume in c.Win32_Volume():\n",
    "        if volume.DriveLetter is None and volume.Label:\n",
    "            capacity_gb = int(volume.Capacity) / (1024**3) if volume.Capacity else 0\n",
    "            free_space_gb = int(volume.FreeSpace) / (1024**3) if volume.FreeSpace else 0\n",
    "            print(f\"Label: {volume.Label}, Capacity: {capacity_gb:.2f} GB, Free: {free_space_gb:.2f} GB, Path: {volume.Name}\")\n",
    "    pythoncom.CoUninitialize()\n",
    "\n",
    "if __name__ == \"__main__\":\n",
    "    get_drive_details()\n",
    "    get_mountpoints()\n"
   ]
  },
  {
   "cell_type": "code",
   "execution_count": null,
   "id": "c237ea4d-b7b5-4405-9204-16983e7d6d2e",
   "metadata": {},
   "outputs": [],
   "source": []
  }
 ],
 "metadata": {
  "kernelspec": {
   "display_name": "Python 3 (ipykernel)",
   "language": "python",
   "name": "python3"
  },
  "language_info": {
   "codemirror_mode": {
    "name": "ipython",
    "version": 3
   },
   "file_extension": ".py",
   "mimetype": "text/x-python",
   "name": "python",
   "nbconvert_exporter": "python",
   "pygments_lexer": "ipython3",
   "version": "3.12.4"
  }
 },
 "nbformat": 4,
 "nbformat_minor": 5
}

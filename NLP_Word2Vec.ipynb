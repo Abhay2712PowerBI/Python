{
 "cells": [
  {
   "cell_type": "code",
   "execution_count": 1,
   "id": "aa3b847f-3f69-4182-bce0-2987361dd290",
   "metadata": {},
   "outputs": [],
   "source": [
    "# Import JSON file\n",
    "import pandas as pd"
   ]
  },
  {
   "cell_type": "code",
   "execution_count": 5,
   "id": "eb024f9f-c7b7-46e9-82df-f22fc36caab8",
   "metadata": {},
   "outputs": [],
   "source": [
    "df = pd.read_json(\"demo.json\")"
   ]
  },
  {
   "cell_type": "code",
   "execution_count": 15,
   "id": "ecdf1865-e29c-44d9-8172-2d018d652c21",
   "metadata": {},
   "outputs": [
    {
     "data": {
      "text/html": [
       "<div>\n",
       "<style scoped>\n",
       "    .dataframe tbody tr th:only-of-type {\n",
       "        vertical-align: middle;\n",
       "    }\n",
       "\n",
       "    .dataframe tbody tr th {\n",
       "        vertical-align: top;\n",
       "    }\n",
       "\n",
       "    .dataframe thead th {\n",
       "        text-align: right;\n",
       "    }\n",
       "</style>\n",
       "<table border=\"1\" class=\"dataframe\">\n",
       "  <thead>\n",
       "    <tr style=\"text-align: right;\">\n",
       "      <th></th>\n",
       "      <th>conversations</th>\n",
       "    </tr>\n",
       "  </thead>\n",
       "  <tbody>\n",
       "    <tr>\n",
       "      <th>0</th>\n",
       "      <td>{'id': 1, 'user': 'Hi, how are you?', 'bot': '...</td>\n",
       "    </tr>\n",
       "    <tr>\n",
       "      <th>1</th>\n",
       "      <td>{'id': 2, 'user': 'What is artificial intellig...</td>\n",
       "    </tr>\n",
       "    <tr>\n",
       "      <th>2</th>\n",
       "      <td>{'id': 3, 'user': 'Can you tell me about space...</td>\n",
       "    </tr>\n",
       "  </tbody>\n",
       "</table>\n",
       "</div>"
      ],
      "text/plain": [
       "                                       conversations\n",
       "0  {'id': 1, 'user': 'Hi, how are you?', 'bot': '...\n",
       "1  {'id': 2, 'user': 'What is artificial intellig...\n",
       "2  {'id': 3, 'user': 'Can you tell me about space..."
      ]
     },
     "execution_count": 15,
     "metadata": {},
     "output_type": "execute_result"
    }
   ],
   "source": [
    "df.head(5)"
   ]
  },
  {
   "cell_type": "code",
   "execution_count": 17,
   "id": "6c9c580b-000e-497c-b6f3-e074ebbca671",
   "metadata": {},
   "outputs": [],
   "source": [
    "import json\n",
    "import nltk"
   ]
  },
  {
   "cell_type": "code",
   "execution_count": 19,
   "id": "7f730672-460d-42f2-b732-e0ae8276c131",
   "metadata": {},
   "outputs": [],
   "source": [
    "from gensim.models import Word2Vec"
   ]
  },
  {
   "cell_type": "code",
   "execution_count": 21,
   "id": "c1630a0f-414a-432d-8870-aacb0f778c22",
   "metadata": {},
   "outputs": [],
   "source": [
    "from nltk.tokenize import word_tokenize,sent_tokenize"
   ]
  },
  {
   "cell_type": "code",
   "execution_count": 23,
   "id": "21c15fb4-8f76-489a-90c0-ffb79eb92c6c",
   "metadata": {},
   "outputs": [
    {
     "name": "stderr",
     "output_type": "stream",
     "text": [
      "[nltk_data] Downloading package punkt to\n",
      "[nltk_data]     C:\\Users\\leno\\AppData\\Roaming\\nltk_data...\n",
      "[nltk_data]   Package punkt is already up-to-date!\n"
     ]
    },
    {
     "data": {
      "text/plain": [
       "True"
      ]
     },
     "execution_count": 23,
     "metadata": {},
     "output_type": "execute_result"
    }
   ],
   "source": [
    "nltk.download(\"punkt\")"
   ]
  },
  {
   "cell_type": "code",
   "execution_count": 27,
   "id": "f0662af9-6566-4c74-a174-94971af5239f",
   "metadata": {},
   "outputs": [
    {
     "name": "stdout",
     "output_type": "stream",
     "text": [
      "Sample tokenized sentences: [['hi', 'how', 'are', 'you'], ['i', 'am', 'fine', 'thank', 'you'], ['how', 'about', 'you']]\n"
     ]
    }
   ],
   "source": [
    "# 2. Collect and tokenize all text\n",
    "# -------------------------------\n",
    "sentences = []\n",
    "for conv in df[\"conversations\"]:\n",
    "    for role in [\"user\", \"bot\"]:\n",
    "        text = conv[role].lower()\n",
    "        for sent in sent_tokenize(text):\n",
    "            words = word_tokenize(sent)\n",
    "            words = [w for w in words if w.isalpha()]  # remove punctuation/numbers\n",
    "            if words:\n",
    "                sentences.append(words)\n",
    "\n",
    "print(\"Sample tokenized sentences:\", sentences[:3])\n"
   ]
  },
  {
   "cell_type": "code",
   "execution_count": 29,
   "id": "ebe43c15-2701-4b6d-b361-fbc706e28aae",
   "metadata": {},
   "outputs": [],
   "source": [
    "# 3. Train Word2Vec model\n",
    "# -------------------------------\n",
    "model = Word2Vec(\n",
    "    sentences=sentences,\n",
    "    vector_size=50,\n",
    "    window=5,\n",
    "    min_count=1,\n",
    "    sg=1,\n",
    "    workers=4\n",
    ")\n"
   ]
  },
  {
   "cell_type": "code",
   "execution_count": 41,
   "id": "fab4e6ea-c9fa-4fe5-9d42-68e2c2422022",
   "metadata": {},
   "outputs": [
    {
     "name": "stdout",
     "output_type": "stream",
     "text": [
      "\n",
      "Vocabulary: ['you', 'intelligence', 'is', 'space', 'how', 'the', 'artificial', 'about', 'galaxies', 'what']\n",
      "\n",
      "Most similar to 'science': [('atmosphere', 0.2680400609970093), ('human', 0.20486442744731903), ('the', 0.18338336050510406), ('thank', 0.16944658756256104), ('tell', 0.11666244268417358)]\n",
      "\n",
      "Most similar to 'ai': [('intelligence', 0.3766525387763977), ('are', 0.2036551833152771), ('hi', 0.1776612550020218), ('and', 0.13477231562137604), ('can', 0.1181776151061058)]\n",
      "\n",
      "Similarity between 'ai' and 'healthcare': -0.024833295\n",
      "\n",
      "Similarity between 'space' and 'universe': 0.16763607\n"
     ]
    }
   ],
   "source": [
    "# 4. Test similarity queries\n",
    "# -------------------------------\n",
    "print(\"\\nVocabulary:\", list(model.wv.index_to_key)[:10])\n",
    "print(\"\\nMost similar to 'science':\", model.wv.most_similar(\"artificial\", topn=5))\n",
    "print(\"\\nMost similar to 'ai':\", model.wv.most_similar(\"stars\", topn=5))\n",
    "print(\"\\nSimilarity between 'ai' and 'healthcare':\", model.wv.similarity(\"region\", \"machines\"))\n",
    "print(\"\\nSimilarity between 'space' and 'universe':\", model.wv.similarity(\"space\", \"planets\"))"
   ]
  },
  {
   "cell_type": "code",
   "execution_count": null,
   "id": "27faece3-f02e-4878-8104-80e5b6ba9309",
   "metadata": {},
   "outputs": [],
   "source": []
  }
 ],
 "metadata": {
  "kernelspec": {
   "display_name": "Python 3 (ipykernel)",
   "language": "python",
   "name": "python3"
  },
  "language_info": {
   "codemirror_mode": {
    "name": "ipython",
    "version": 3
   },
   "file_extension": ".py",
   "mimetype": "text/x-python",
   "name": "python",
   "nbconvert_exporter": "python",
   "pygments_lexer": "ipython3",
   "version": "3.12.4"
  }
 },
 "nbformat": 4,
 "nbformat_minor": 5
}

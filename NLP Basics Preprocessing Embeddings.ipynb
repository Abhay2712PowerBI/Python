{
 "cells": [
  {
   "cell_type": "code",
   "execution_count": 1,
   "id": "1bb095a5-18b9-44f7-aece-f80b53f61a85",
   "metadata": {},
   "outputs": [],
   "source": [
    "import nltk"
   ]
  },
  {
   "cell_type": "code",
   "execution_count": 2,
   "id": "74b879d1-10d3-43d7-9040-9a56a755b1c5",
   "metadata": {},
   "outputs": [],
   "source": [
    "from nltk.tokenize import word_tokenize"
   ]
  },
  {
   "cell_type": "code",
   "execution_count": 3,
   "id": "be568b47-923d-4a15-8848-164e762c1d2a",
   "metadata": {},
   "outputs": [],
   "source": [
    "text = \"AI is coined in 1956 but gained popularly in 1956\""
   ]
  },
  {
   "cell_type": "code",
   "execution_count": 4,
   "id": "5f617b12-e0cc-4355-a79a-9eca2cbb06af",
   "metadata": {},
   "outputs": [],
   "source": [
    "token1 = word_tokenize(text)"
   ]
  },
  {
   "cell_type": "code",
   "execution_count": 5,
   "id": "b3341411-ed91-464b-a767-b4aab0842219",
   "metadata": {},
   "outputs": [
    {
     "name": "stdout",
     "output_type": "stream",
     "text": [
      "['AI', 'is', 'coined', 'in', '1956', 'but', 'gained', 'popularly', 'in', '1956']\n"
     ]
    }
   ],
   "source": [
    "print(token1)"
   ]
  },
  {
   "cell_type": "code",
   "execution_count": 11,
   "id": "abb26805-760f-4dca-a92e-03fd8808f385",
   "metadata": {},
   "outputs": [],
   "source": [
    "from nltk.tokenize import sent_tokenize"
   ]
  },
  {
   "cell_type": "code",
   "execution_count": 13,
   "id": "f858ccdd-a3c2-4453-918d-8a02dc1515c1",
   "metadata": {},
   "outputs": [],
   "source": [
    "token2 = sent_tokenize(text)"
   ]
  },
  {
   "cell_type": "code",
   "execution_count": 15,
   "id": "4b569c22-5a8d-4e52-a07c-a192e3227426",
   "metadata": {},
   "outputs": [
    {
     "name": "stdout",
     "output_type": "stream",
     "text": [
      "['AI is coined in 1956 but gained popularly in 1956']\n"
     ]
    }
   ],
   "source": [
    "print(token2)"
   ]
  },
  {
   "cell_type": "code",
   "execution_count": 17,
   "id": "1d117833-a58d-4957-b0e2-0dfa70adab2f",
   "metadata": {},
   "outputs": [],
   "source": [
    "from nltk.stem import PorterStemmer"
   ]
  },
  {
   "cell_type": "code",
   "execution_count": 19,
   "id": "9cdf7d0e-1802-4d66-9e35-a91e58f720cb",
   "metadata": {},
   "outputs": [],
   "source": [
    "e_words = ['wait','waiting','waited','waits']\n",
    "ps= PorterStemmer()"
   ]
  },
  {
   "cell_type": "code",
   "execution_count": 21,
   "id": "94836a1d-53ee-4ce0-8803-c47c9ba2e703",
   "metadata": {},
   "outputs": [
    {
     "name": "stdout",
     "output_type": "stream",
     "text": [
      "wait\n"
     ]
    }
   ],
   "source": [
    "for w in e_words:\n",
    "    rootword = ps.stem(w)\n",
    "print(rootword)\n",
    "    "
   ]
  },
  {
   "cell_type": "code",
   "execution_count": 23,
   "id": "99757b07-6c5d-4cb3-905a-c6ae3889c9ee",
   "metadata": {},
   "outputs": [],
   "source": [
    "# stemming code\n",
    "from nltk.stem import PorterStemmer"
   ]
  },
  {
   "cell_type": "code",
   "execution_count": 25,
   "id": "25ec4adb-2061-495a-a7e0-01c7090a2cff",
   "metadata": {},
   "outputs": [],
   "source": [
    "ps = PorterStemmer()"
   ]
  },
  {
   "cell_type": "code",
   "execution_count": 27,
   "id": "dabb1846-3153-45a2-adf8-e4120b354d1c",
   "metadata": {},
   "outputs": [],
   "source": [
    "text = \"studies studying cries cry\""
   ]
  },
  {
   "cell_type": "code",
   "execution_count": 29,
   "id": "a025dee0-617c-4df8-83a8-a41693adbd0d",
   "metadata": {},
   "outputs": [
    {
     "data": {
      "text/plain": [
       "['studies', 'studying', 'cries', 'cry']"
      ]
     },
     "execution_count": 29,
     "metadata": {},
     "output_type": "execute_result"
    }
   ],
   "source": [
    "token1= nltk.word_tokenize(text)\n",
    "token1"
   ]
  },
  {
   "cell_type": "code",
   "execution_count": 31,
   "id": "43974549-633d-458f-9e25-dc5a2ac5b1a6",
   "metadata": {},
   "outputs": [
    {
     "name": "stdout",
     "output_type": "stream",
     "text": [
      "studi\n",
      "studi\n",
      "cri\n",
      "cri\n"
     ]
    }
   ],
   "source": [
    "for w in token1:\n",
    "    st_1 = ps.stem(w)\n",
    "    print(st_1)"
   ]
  },
  {
   "cell_type": "code",
   "execution_count": 33,
   "id": "d0bd136e-8723-433d-b342-596a414d7849",
   "metadata": {},
   "outputs": [],
   "source": [
    "from nltk.stem import WordNetLemmatizer"
   ]
  },
  {
   "cell_type": "code",
   "execution_count": 35,
   "id": "379e1bf5-c2b6-442c-86b5-31bd97612f39",
   "metadata": {},
   "outputs": [],
   "source": [
    "wl= WordNetLemmatizer()"
   ]
  },
  {
   "cell_type": "code",
   "execution_count": 37,
   "id": "46835918-bac9-4c1a-9083-d6cd16436148",
   "metadata": {},
   "outputs": [
    {
     "name": "stdout",
     "output_type": "stream",
     "text": [
      "study\n",
      "studying\n",
      "cry\n",
      "cry\n"
     ]
    }
   ],
   "source": [
    "for w in token1:\n",
    "    ls_1 = wl.lemmatize(w)\n",
    "    print(ls_1)"
   ]
  },
  {
   "cell_type": "code",
   "execution_count": 38,
   "id": "42597044-a5c6-4e4c-ad31-270f02552dea",
   "metadata": {},
   "outputs": [],
   "source": [
    "from nltk.tokenize import word_tokenize,sent_tokenize"
   ]
  },
  {
   "cell_type": "code",
   "execution_count": 39,
   "id": "4fd93d9e-3b3c-4a09-8fe6-6ae34a7c6b34",
   "metadata": {},
   "outputs": [],
   "source": [
    "from nltk.corpus import stopwords"
   ]
  },
  {
   "cell_type": "code",
   "execution_count": 40,
   "id": "6abcdd49-b99e-44ff-bb17-026dfd2c5781",
   "metadata": {},
   "outputs": [
    {
     "name": "stdout",
     "output_type": "stream",
     "text": [
      "AI is coined in 1956 but gained popularly in 1956\n"
     ]
    }
   ],
   "source": [
    "text = \"AI is coined in 1956 but gained popularly in 1956\"\n",
    "print(text)"
   ]
  },
  {
   "cell_type": "code",
   "execution_count": 41,
   "id": "98061785-5d60-4187-a904-84c02de75b9c",
   "metadata": {},
   "outputs": [],
   "source": [
    "stopWords = set(stopwords.words(\"english\"))"
   ]
  },
  {
   "cell_type": "code",
   "execution_count": 42,
   "id": "bd259b40-bf4a-4e9e-a839-852f33135b0c",
   "metadata": {},
   "outputs": [],
   "source": [
    "words= word_tokenize(text)\n",
    "word_filtered=[]"
   ]
  },
  {
   "cell_type": "code",
   "execution_count": 43,
   "id": "a33c05a7-d2b9-49a9-8d84-e8ad6b909a57",
   "metadata": {},
   "outputs": [
    {
     "data": {
      "text/plain": [
       "['AI',\n",
       " 'is',\n",
       " 'coined',\n",
       " 'in',\n",
       " '1956',\n",
       " 'but',\n",
       " 'gained',\n",
       " 'popularly',\n",
       " 'in',\n",
       " '1956']"
      ]
     },
     "execution_count": 43,
     "metadata": {},
     "output_type": "execute_result"
    }
   ],
   "source": [
    "words"
   ]
  },
  {
   "cell_type": "code",
   "execution_count": 44,
   "id": "80075518-2f6d-417f-8ddb-a92f17006f0a",
   "metadata": {},
   "outputs": [
    {
     "name": "stdout",
     "output_type": "stream",
     "text": [
      "['AI', 'coined', '1956', 'gained', 'popularly', '1956']\n"
     ]
    }
   ],
   "source": [
    "for w in words:\n",
    "    if w not in stopWords:\n",
    "        word_filtered.append(w)\n",
    "print(word_filtered)"
   ]
  },
  {
   "cell_type": "code",
   "execution_count": 45,
   "id": "19e67724-e78a-49d0-b40c-4bd22c30666a",
   "metadata": {},
   "outputs": [
    {
     "name": "stdout",
     "output_type": "stream",
     "text": [
      "198\n"
     ]
    }
   ],
   "source": [
    "print(len(stopWords))"
   ]
  },
  {
   "cell_type": "code",
   "execution_count": 55,
   "id": "24108b13-83bb-4a6e-8f91-3f3c09782ff4",
   "metadata": {},
   "outputs": [
    {
     "name": "stdout",
     "output_type": "stream",
     "text": [
      "{'all', 'a', 'has', 'him', 'the', 'd', 'o', \"you'll\", 'should', 'before', 'his', 'too', 'such', 's', \"couldn't\", 'i', 'over', 'with', 'doing', \"didn't\", 'wouldn', \"doesn't\", 'shan', 'myself', 'ma', 'did', \"wouldn't\", 'themselves', \"aren't\", 'don', 'just', 'hadn', 'do', 'haven', \"they'll\", 'below', 'through', 'because', 'during', 'mustn', 'yours', 'can', 'what', 'll', 'nor', 'in', 'about', 't', 'if', \"don't\", 'those', \"shan't\", 'here', 'she', \"they'd\", 're', \"wasn't\", 'am', 'was', 'ours', 'for', 've', 'its', \"mustn't\", 'from', 'himself', 'ourselves', \"he'd\", 'at', 'who', 'herself', \"you'd\", 'most', 'once', 'shouldn', 'by', 'be', 'needn', 'then', 'hers', \"we'd\", \"that'll\", 'won', 'not', 'being', 'we', \"we'll\", \"it'd\", 'he', \"needn't\", 'under', 'y', 'than', \"they've\", \"we're\", 'mightn', \"i'll\", \"weren't\", 'as', 'until', 'some', 'these', \"he's\", 'why', 'same', \"it'll\", 'were', 'off', 'out', \"it's\", 'they', \"he'll\", 'had', 'm', 'now', \"i'm\", \"you've\", 'so', 'up', 'into', 'both', 'other', 'them', 'while', 'which', \"we've\", \"i've\", 'that', 'couldn', 'few', 'very', 'does', \"haven't\", 'having', \"she's\", \"won't\", \"i'd\", 'her', 'doesn', 'any', 'own', 'are', 'aren', 'it', \"shouldn't\", 'me', 'my', 'each', \"hadn't\", 'no', \"hasn't\", 'further', 'above', 'when', 'more', 'this', 'weren', 'you', 'your', 'only', 'of', 'ain', 'yourself', 'where', 'between', 'but', \"you're\", 'and', 'again', \"she'll\", 'wasn', 'have', 'will', 'there', 'down', \"they're\", 'isn', 'itself', \"should've\", 'been', 'how', 'against', \"she'd\", 'theirs', \"mightn't\", 'on', 'or', 'yourselves', 'hasn', 'is', 'an', 'their', \"isn't\", 'whom', 'our', 'to', 'didn', 'after'}\n"
     ]
    }
   ],
   "source": [
    "print(stopWords)"
   ]
  },
  {
   "cell_type": "code",
   "execution_count": 57,
   "id": "928fa00a-c09a-4510-b917-f07495180d14",
   "metadata": {},
   "outputs": [],
   "source": [
    "import sklearn"
   ]
  },
  {
   "cell_type": "code",
   "execution_count": 59,
   "id": "074614e2-a0ee-4b97-9793-b179eb14fa70",
   "metadata": {},
   "outputs": [],
   "source": [
    "from sklearn.feature_extraction.text import CountVectorizer"
   ]
  },
  {
   "cell_type": "code",
   "execution_count": 61,
   "id": "e0aaee6f-3791-4e65-9ae6-b5d3afed2f8e",
   "metadata": {},
   "outputs": [],
   "source": [
    "import pandas as pd"
   ]
  },
  {
   "cell_type": "code",
   "execution_count": 63,
   "id": "387ed223-a854-4650-aff1-d3b742f75a38",
   "metadata": {},
   "outputs": [],
   "source": [
    "reviews = \"\"\"\n",
    "    The laptop is fast and reliable,\n",
    "    This phone is fast and lightweight,\n",
    "    The tablet is slow but reliable,\n",
    "    This laptop is lightweight and portable\"\"\"\n",
    "\n",
    "reviews_list = reviews.splitlines()"
   ]
  },
  {
   "cell_type": "code",
   "execution_count": 65,
   "id": "6fe7cd58-7dc2-4a2c-82e2-7112784dccd9",
   "metadata": {},
   "outputs": [],
   "source": [
    "vectorizer = CountVectorizer()\n",
    "bag_of_words = vectorizer.fit_transform(reviews_list)"
   ]
  },
  {
   "cell_type": "code",
   "execution_count": 67,
   "id": "8cf003cd-7c32-4c09-8123-e0d911ea6848",
   "metadata": {},
   "outputs": [
    {
     "name": "stdout",
     "output_type": "stream",
     "text": [
      "\n",
      "    The laptop is fast and reliable,\n",
      "    This phone is fast and lightweight,\n",
      "    The tablet is slow but reliable,\n",
      "    This laptop is lightweight and portable\n"
     ]
    }
   ],
   "source": [
    "print(reviews)"
   ]
  },
  {
   "cell_type": "code",
   "execution_count": 69,
   "id": "88702b08-9065-4f0e-9544-ecf8014f7d11",
   "metadata": {},
   "outputs": [
    {
     "name": "stdout",
     "output_type": "stream",
     "text": [
      "           and  but  fast  is  laptop  lightweight  phone  portable  reliable  \\\n",
      "Review 1     0    0     0   0       0            0      0         0         0   \n",
      "Review 2     1    0     1   1       1            0      0         0         1   \n",
      "Review 3     1    0     1   1       0            1      1         0         0   \n",
      "Review 4     0    1     0   1       0            0      0         0         1   \n",
      "Review 5     1    0     0   1       1            1      0         1         0   \n",
      "\n",
      "           slow  tablet  the  this  \n",
      "Review 1      0       0    0     0  \n",
      "Review 2      0       0    1     0  \n",
      "Review 3      0       0    0     1  \n",
      "Review 4      1       1    1     0  \n",
      "Review 5      0       0    0     1  \n"
     ]
    }
   ],
   "source": [
    "df_bow = pd.DataFrame(bag_of_words.toarray(), \n",
    "                      columns=vectorizer.get_feature_names_out(), \n",
    "                      index=[f\"Review {i+1} \"  for i in range(len(reviews_list))])\n",
    "\n",
    "print(df_bow)"
   ]
  },
  {
   "cell_type": "code",
   "execution_count": 71,
   "id": "08485129-c06e-49f3-9419-d01806e50e5f",
   "metadata": {},
   "outputs": [],
   "source": [
    "import matplotlib.pyplot as plt"
   ]
  },
  {
   "cell_type": "code",
   "execution_count": 73,
   "id": "2c49d737-17a3-4515-8f30-92e16e4f4c67",
   "metadata": {},
   "outputs": [],
   "source": [
    "words = nltk.tokenize.word_tokenize(reviews)"
   ]
  },
  {
   "cell_type": "code",
   "execution_count": 75,
   "id": "8571a9c0-e591-402b-9d3e-8788d2b6f541",
   "metadata": {},
   "outputs": [
    {
     "data": {
      "text/plain": [
       "['The',\n",
       " 'laptop',\n",
       " 'is',\n",
       " 'fast',\n",
       " 'and',\n",
       " 'reliable',\n",
       " ',',\n",
       " 'This',\n",
       " 'phone',\n",
       " 'is',\n",
       " 'fast',\n",
       " 'and',\n",
       " 'lightweight',\n",
       " ',',\n",
       " 'The',\n",
       " 'tablet',\n",
       " 'is',\n",
       " 'slow',\n",
       " 'but',\n",
       " 'reliable',\n",
       " ',',\n",
       " 'This',\n",
       " 'laptop',\n",
       " 'is',\n",
       " 'lightweight',\n",
       " 'and',\n",
       " 'portable']"
      ]
     },
     "execution_count": 75,
     "metadata": {},
     "output_type": "execute_result"
    }
   ],
   "source": [
    "words"
   ]
  },
  {
   "cell_type": "code",
   "execution_count": 77,
   "id": "36406220-2e14-4b3b-b38e-91841c86f102",
   "metadata": {},
   "outputs": [
    {
     "data": {
      "image/png": "[encoded data removed]",
      "text/plain": [
       "<Figure size 640x480 with 1 Axes>"
      ]
     },
     "metadata": {},
     "output_type": "display_data"
    },
    {
     "data": {
      "text/plain": [
       "<Axes: xlabel='Samples', ylabel='Counts'>"
      ]
     },
     "execution_count": 77,
     "metadata": {},
     "output_type": "execute_result"
    }
   ],
   "source": [
    "fd = nltk.FreqDist(words)\n",
    "fd.plot()"
   ]
  },
  {
   "cell_type": "code",
   "execution_count": 78,
   "id": "5731828a-c76e-48b0-8587-2f77e64061b0",
   "metadata": {},
   "outputs": [],
   "source": [
    "import nltk\n",
    "import re\n",
    "import pandas as pd\n",
    "from sklearn.feature_extraction.text import CountVectorizer,TfidfVectorizer\n",
    "from nltk.corpus import stopwords\n",
    "from nltk.stem import WordNetLemmatizer"
   ]
  },
  {
   "cell_type": "code",
   "execution_count": 81,
   "id": "9212135f-ba4d-45d2-a5b0-83b711574b25",
   "metadata": {},
   "outputs": [
    {
     "name": "stderr",
     "output_type": "stream",
     "text": [
      "[nltk_data] Downloading package stopwords to\n",
      "[nltk_data]     C:\\Users\\leno\\AppData\\Roaming\\nltk_data...\n",
      "[nltk_data]   Package stopwords is already up-to-date!\n",
      "[nltk_data] Downloading package punkt to\n",
      "[nltk_data]     C:\\Users\\leno\\AppData\\Roaming\\nltk_data...\n",
      "[nltk_data]   Package punkt is already up-to-date!\n",
      "[nltk_data] Downloading package wordnet to\n",
      "[nltk_data]     C:\\Users\\leno\\AppData\\Roaming\\nltk_data...\n",
      "[nltk_data]   Package wordnet is already up-to-date!\n"
     ]
    },
    {
     "data": {
      "text/plain": [
       "True"
      ]
     },
     "execution_count": 81,
     "metadata": {},
     "output_type": "execute_result"
    }
   ],
   "source": [
    "nltk.download('stopwords')\n",
    "nltk.download('punkt')\n",
    "nltk.download('wordnet')"
   ]
  },
  {
   "cell_type": "code",
   "execution_count": 82,
   "id": "9b370042-e4fd-48a0-9502-6df2fa27d5a3",
   "metadata": {},
   "outputs": [],
   "source": [
    "reviews = [\n",
    "    \"The laptop is fast, and reliable!!!\",\n",
    "    \"This phone is fast and lightweight.\",\n",
    "    \"The tablet is slow, but reliable.\",\n",
    "    \"This laptop is lightweight & portable.\"\n",
    "]"
   ]
  },
  {
   "cell_type": "code",
   "execution_count": 85,
   "id": "7bfbe3ba-2902-4750-9414-294525f1568c",
   "metadata": {},
   "outputs": [],
   "source": [
    "stop_words = set(stopwords.words('english'))\n",
    "lemmatizer = WordNetLemmatizer()"
   ]
  },
  {
   "cell_type": "code",
   "execution_count": 87,
   "id": "80964caf-98ec-4e7c-b46d-9ef599b8c5eb",
   "metadata": {},
   "outputs": [
    {
     "name": "stdout",
     "output_type": "stream",
     "text": [
      "Cleaned Reviews: ['laptop fast reliable', 'phone fast lightweight', 'tablet slow reliable', 'laptop lightweight portable']\n",
      "\n",
      "Bag of Words:\n",
      "           fast  laptop  lightweight  phone  portable  reliable  slow  tablet\n",
      "Review 1     1       1            0      0         0         1     0       0\n",
      "Review 2     1       0            1      1         0         0     0       0\n",
      "Review 3     0       0            0      0         0         1     1       1\n",
      "Review 4     0       1            1      0         1         0     0       0\n",
      "\n",
      "TF-IDF:\n",
      "           fast  laptop  lightweight  phone  portable  reliable  slow  tablet\n",
      "Review 1  0.58    0.58         0.00   0.00      0.00      0.58  0.00    0.00\n",
      "Review 2  0.53    0.00         0.53   0.67      0.00      0.00  0.00    0.00\n",
      "Review 3  0.00    0.00         0.00   0.00      0.00      0.49  0.62    0.62\n",
      "Review 4  0.00    0.53         0.53   0.00      0.67      0.00  0.00    0.00\n"
     ]
    }
   ],
   "source": [
    "def preprocess(text):\n",
    "    #1. lowercase\n",
    "    text = text.lower()\n",
    "    #2. Remove punctuations\n",
    "    text =re.sub(r\"[^\\w\\s]\",\" \",text)\n",
    "    #3. Tokenixe\n",
    "    tokens = nltk.word_tokenize(text)\n",
    "    #4. Remove stopwords + Lemmatize\n",
    "    tokens = [lemmatizer.lemmatize(word) for word in tokens if word not in stop_words]\n",
    "    return \" \".join(tokens)\n",
    "\n",
    "cleaned_reviews = [preprocess(r) for r in reviews]\n",
    "print(\"Cleaned Reviews:\", cleaned_reviews)\n",
    "# ---------- Bag of Words ----------\n",
    "vectorizer = CountVectorizer()\n",
    "X_bow = vectorizer.fit_transform(cleaned_reviews)\n",
    "df_bow = pd.DataFrame(X_bow.toarray(), columns=vectorizer.get_feature_names_out(), index=[f\"Review {i+1}\" for i in range(len(cleaned_reviews))])\n",
    "\n",
    "print(\"\\nBag of Words:\\n\", df_bow)\n",
    "\n",
    "# ---------- TF-IDF ----------\n",
    "tfidf = TfidfVectorizer()\n",
    "X_tfidf = tfidf.fit_transform(cleaned_reviews)\n",
    "df_tfidf = pd.DataFrame(X_tfidf.toarray(), columns=tfidf.get_feature_names_out(), index=[f\"Review {i+1}\" for i in range(len(cleaned_reviews))])\n",
    "\n",
    "print(\"\\nTF-IDF:\\n\", df_tfidf.round(2))\n",
    "\n",
    "\n",
    "\n"
   ]
  },
  {
   "cell_type": "code",
   "execution_count": 89,
   "id": "2d4aeb3e-3c10-4a97-a6ac-d70f91c31584",
   "metadata": {},
   "outputs": [],
   "source": [
    "import nltk\n",
    "from nltk.collocations import BigramAssocMeasures\n",
    "from nltk.collocations import BigramCollocationFinder"
   ]
  },
  {
   "cell_type": "code",
   "execution_count": 91,
   "id": "6cff3ae6-b7ab-44a1-9e1b-477e20aba51c",
   "metadata": {},
   "outputs": [
    {
     "name": "stdout",
     "output_type": "stream",
     "text": [
      "{'all', 'a', 'has', 'him', 'the', 'd', 'o', \"you'll\", 'should', 'before', 'his', 'too', 'such', 's', \"couldn't\", 'i', 'over', 'with', 'doing', \"didn't\", 'wouldn', \"doesn't\", 'shan', 'myself', 'ma', 'did', \"wouldn't\", 'themselves', \"aren't\", 'don', 'just', 'hadn', 'do', 'haven', \"they'll\", 'below', 'through', 'because', 'during', 'mustn', 'yours', 'can', 'what', 'll', 'nor', 'in', 'about', 't', 'if', \"don't\", 'those', \"shan't\", 'here', 'she', \"they'd\", 're', \"wasn't\", 'am', 'was', 'ours', 'for', 've', 'its', \"mustn't\", 'from', 'himself', 'ourselves', \"he'd\", 'at', 'who', 'herself', \"you'd\", 'most', 'once', 'shouldn', 'by', 'be', 'needn', 'then', 'hers', \"we'd\", \"that'll\", 'won', 'not', 'being', 'we', \"we'll\", \"it'd\", 'he', \"needn't\", 'under', 'y', 'than', \"they've\", \"we're\", 'mightn', \"i'll\", \"weren't\", 'as', 'until', 'some', 'these', \"he's\", 'why', 'same', \"it'll\", 'were', 'off', 'out', \"it's\", 'they', \"he'll\", 'had', 'm', 'now', \"i'm\", \"you've\", 'so', 'up', 'into', 'both', 'other', 'them', 'while', 'which', \"we've\", \"i've\", 'that', 'couldn', 'few', 'very', 'does', \"haven't\", 'having', \"she's\", \"won't\", \"i'd\", 'her', 'doesn', 'any', 'own', 'are', 'aren', 'it', \"shouldn't\", 'me', 'my', 'each', \"hadn't\", 'no', \"hasn't\", 'further', 'above', 'when', 'more', 'this', 'weren', 'you', 'your', 'only', 'of', 'ain', 'yourself', 'where', 'between', 'but', \"you're\", 'and', 'again', \"she'll\", 'wasn', 'have', 'will', 'there', 'down', \"they're\", 'isn', 'itself', \"should've\", 'been', 'how', 'against', \"she'd\", 'theirs', \"mightn't\", 'on', 'or', 'yourselves', 'hasn', 'is', 'an', 'their', \"isn't\", 'whom', 'our', 'to', 'didn', 'after'}\n"
     ]
    }
   ],
   "source": [
    "# Sample text\n",
    "text = \"\"\"\n",
    "Machine learning is a branch of artificial intelligence.\n",
    "Natural language processing is part of machine learning.\n",
    "Deep learning is used in data science and computer vision.\n",
    "\"\"\"\n",
    "token = nltk.tokenize.word_tokenize(text.lower())\n",
    "stopwords = set(nltk.corpus.stopwords.words(\"english\"))\n",
    "print(stopwords)"
   ]
  },
  {
   "cell_type": "code",
   "execution_count": 93,
   "id": "a975ad0e-bf2c-40fe-99d1-1e2437ffd1fe",
   "metadata": {},
   "outputs": [
    {
     "name": "stdout",
     "output_type": "stream",
     "text": [
      "['machine', 'learning', 'branch', 'artificial', 'intelligence', '.', 'natural', 'language', 'processing', 'part', 'machine', 'learning', '.', 'deep', 'learning', 'used', 'data', 'science', 'computer', 'vision', '.']\n"
     ]
    }
   ],
   "source": [
    "filtered_token = []\n",
    "for w in token:\n",
    "    if w not in stopwords:\n",
    "        filtered_token.append(w)\n",
    "                \n",
    "print(filtered_token)\n",
    "        "
   ]
  },
  {
   "cell_type": "code",
   "execution_count": 95,
   "id": "356b0325-1450-4c71-8500-7081f1fc7563",
   "metadata": {},
   "outputs": [
    {
     "name": "stdout",
     "output_type": "stream",
     "text": [
      "[('artificial', 'intelligence'), ('branch', 'artificial'), ('computer', 'vision'), ('data', 'science'), ('language', 'processing'), ('natural', 'language'), ('processing', 'part'), ('science', 'computer'), ('used', 'data'), ('part', 'machine')]\n"
     ]
    }
   ],
   "source": [
    "bigram_measures = BigramAssocMeasures()\n",
    "finder = BigramCollocationFinder.from_words(filtered_token)\n",
    "print(finder.nbest(bigram_measures.pmi,10))"
   ]
  },
  {
   "cell_type": "code",
   "execution_count": 97,
   "id": "1a4cbaaa-ce24-488e-9297-3104c767d8a7",
   "metadata": {},
   "outputs": [
    {
     "name": "stdout",
     "output_type": "stream",
     "text": [
      "(('machine', 'learning', 'branch'), ('learning', 'branch', 'artificial'), ('branch', 'artificial', 'intelligence'), ('artificial', 'intelligence', '.'), ('intelligence', '.', 'natural'), ('.', 'natural', 'language'), ('natural', 'language', 'processing'), ('language', 'processing', 'part'), ('processing', 'part', 'machine'), ('part', 'machine', 'learning'), ('machine', 'learning', '.'), ('learning', '.', 'deep'), ('.', 'deep', 'learning'), ('deep', 'learning', 'used'), ('learning', 'used', 'data'), ('used', 'data', 'science'), ('data', 'science', 'computer'), ('science', 'computer', 'vision'), ('computer', 'vision', '.'))\n"
     ]
    }
   ],
   "source": [
    "trigram_out = tuple(nltk.trigrams(filtered_token))\n",
    "print(trigram_out)"
   ]
  },
  {
   "cell_type": "code",
   "execution_count": 99,
   "id": "8aa557a6-a11c-47d6-a2df-30bc209ef654",
   "metadata": {},
   "outputs": [],
   "source": [
    "bigram_fd = nltk.FreqDist(nltk.bigrams(filtered_token))"
   ]
  },
  {
   "cell_type": "code",
   "execution_count": 101,
   "id": "80e39631-003d-4e4f-a275-393f4d2e317e",
   "metadata": {},
   "outputs": [
    {
     "data": {
      "text/plain": [
       "[(('machine', 'learning'), 2), (('learning', 'branch'), 1)]"
      ]
     },
     "execution_count": 101,
     "metadata": {},
     "output_type": "execute_result"
    }
   ],
   "source": [
    "bigram_fd.most_common(2)"
   ]
  },
  {
   "cell_type": "code",
   "execution_count": 109,
   "id": "21b93497-21b9-49c8-b919-e06a36267e82",
   "metadata": {},
   "outputs": [
    {
     "name": "stdout",
     "output_type": "stream",
     "text": [
      "Scipy version: 1.13.1\n",
      "Gensim version: 4.3.3\n"
     ]
    }
   ],
   "source": [
    "## WORD EMBEDDINGS\n",
    "import scipy\n",
    "import gensim\n",
    "\n",
    "print(\"Scipy version:\", scipy.__version__)\n",
    "print(\"Gensim version:\", gensim.__version__)"
   ]
  },
  {
   "cell_type": "code",
   "execution_count": 111,
   "id": "1b2dd772-bbfe-439e-a8ba-85ddd5d47451",
   "metadata": {},
   "outputs": [],
   "source": [
    "from gensim.models import Word2Vec\n"
   ]
  },
  {
   "cell_type": "code",
   "execution_count": 113,
   "id": "e9a584a1-a9e8-4638-b84d-dc50495f94cf",
   "metadata": {},
   "outputs": [],
   "source": [
    "# Sample sentences\n",
    "sentences = [\n",
    "    [\"machine\", \"learning\", \"is\", \"fun\"],\n",
    "    [\"deep\", \"learning\", \"is\", \"part\", \"of\", \"machine\", \"learning\"],\n",
    "    [\"natural\", \"language\", \"processing\", \"is\", \"powerful\"],\n",
    "    [\"data\", \"science\", \"uses\", \"machine\", \"learning\"]\n",
    "]"
   ]
  },
  {
   "cell_type": "code",
   "execution_count": 115,
   "id": "da8249b0-a679-4416-b850-a6c66d6abaf3",
   "metadata": {},
   "outputs": [],
   "source": [
    "# Train Word2Vec model\n",
    "model = Word2Vec(sentences,vector_size=50, window=3, min_count=1, workers=4)"
   ]
  },
  {
   "cell_type": "code",
   "execution_count": 121,
   "id": "28189762-87b8-431a-9d63-399e2d09f7ed",
   "metadata": {},
   "outputs": [
    {
     "name": "stdout",
     "output_type": "stream",
     "text": [
      "Vector for 'machine':\n",
      " [-0.01723995  0.00733131  0.0103764   0.01148001  0.01493147 -0.01233515\n",
      "  0.00221305  0.01210121 -0.00568235 -0.01234474 -0.00082586 -0.01673823\n",
      " -0.01120541  0.01420842  0.00670305  0.01445054  0.01360303  0.01505877\n",
      " -0.00757704 -0.00112005  0.00469347 -0.00904189  0.01678062 -0.01971384\n",
      "  0.01352829  0.00582325 -0.00986252  0.00879354 -0.00347912  0.01342184\n",
      "  0.01992522 -0.00872588 -0.00120014 -0.01139424  0.00770152  0.00557665\n",
      "  0.01378605  0.01219568  0.01908118  0.01854257  0.01579388 -0.01398266\n",
      " -0.01831074 -0.00071472 -0.00620248  0.01578804  0.01187894 -0.00308586\n",
      "  0.00301926  0.00358363]\n"
     ]
    }
   ],
   "source": [
    "## Get embedding for a word\n",
    "print(\"Vector for 'machine':\\n\",model.wv['machine'])"
   ]
  },
  {
   "cell_type": "code",
   "execution_count": 125,
   "id": "3345a7fa-4857-43d0-bae8-f11bec1e8308",
   "metadata": {},
   "outputs": [
    {
     "name": "stdout",
     "output_type": "stream",
     "text": [
      "Find similar words to 'learning':\n",
      " [('part', 0.16713885962963104), ('fun', 0.15030904114246368), ('processing', 0.13211312890052795), ('machine', 0.12680216133594513), ('natural', 0.0998615249991417), ('is', 0.042360421270132065), ('deep', 0.04070504009723663), ('data', 0.012768716551363468), ('of', -0.012465564534068108), ('uses', -0.014232104644179344)]\n"
     ]
    }
   ],
   "source": [
    "# Find similar words\n",
    "print(\"Find similar words to 'learning':\\n\",model.wv.most_similar('learning'))"
   ]
  },
  {
   "cell_type": "code",
   "execution_count": 127,
   "id": "5938f1b4-5529-4284-998d-07b8cdbfcbea",
   "metadata": {},
   "outputs": [],
   "source": [
    "# Visualizing Word Embeddings\n",
    "from sklearn.decomposition import PCA\n",
    "import matplotlib.pyplot as plt"
   ]
  },
  {
   "cell_type": "code",
   "execution_count": 131,
   "id": "d73d194f-d41a-431b-aea2-415aa1044873",
   "metadata": {},
   "outputs": [],
   "source": [
    "words = list(model.wv.key_to_index.keys())\n",
    "\n",
    "X = model.wv[words]"
   ]
  },
  {
   "cell_type": "code",
   "execution_count": 135,
   "id": "e85f5f22-d936-4653-9cb2-6f333ea95bc1",
   "metadata": {},
   "outputs": [],
   "source": [
    "pca = PCA(n_components=2)\n",
    "result = pca.fit_transform(X)"
   ]
  },
  {
   "cell_type": "code",
   "execution_count": 137,
   "id": "09b3a8ee-3ac5-4d25-88c3-b00022bbda0e",
   "metadata": {},
   "outputs": [
    {
     "data": {
      "image/png": "[encoded data removed]",
      "text/plain": [
       "<Figure size 800x600 with 1 Axes>"
      ]
     },
     "metadata": {},
     "output_type": "display_data"
    }
   ],
   "source": [
    "plt.figure(figsize=(8,6))\n",
    "plt.scatter(result[:,0], result[:,1])\n",
    "\n",
    "for i, word in enumerate(words):\n",
    "    plt.annotate(word, xy=(result[i,0], result[i,1]))\n",
    "plt.show()"
   ]
  },
  {
   "cell_type": "code",
   "execution_count": null,
   "id": "7e9abf7c-7cc6-4d02-97bc-05397e9934da",
   "metadata": {},
   "outputs": [],
   "source": []
  }
 ],
 "metadata": {
  "kernelspec": {
   "display_name": "Python 3 (ipykernel)",
   "language": "python",
   "name": "python3"
  },
  "language_info": {
   "codemirror_mode": {
    "name": "ipython",
    "version": 3
   },
   "file_extension": ".py",
   "mimetype": "text/x-python",
   "name": "python",
   "nbconvert_exporter": "python",
   "pygments_lexer": "ipython3",
   "version": "3.12.4"
  }
 },
 "nbformat": 4,
 "nbformat_minor": 5
}

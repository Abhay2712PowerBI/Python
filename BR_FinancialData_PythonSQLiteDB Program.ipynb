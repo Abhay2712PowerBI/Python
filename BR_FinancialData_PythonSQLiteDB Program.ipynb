{
 "cells": [
  {
   "cell_type": "code",
   "execution_count": 2,
   "metadata": {},
   "outputs": [
    {
     "name": "stdout",
     "output_type": "stream",
     "text": [
      "Data exported to financial.xls successfully.\n"
     ]
    }
   ],
   "source": [
    "import sqlite3\n",
    "import xlwt\n",
    "\n",
    "# Connect to SQLite database (or create it if it doesn't exist)\n",
    "conn = sqlite3.connect('C:/Users/leno/financial_27May.db')\n",
    "cursor = conn.cursor()\n",
    "\n",
    "# Create a table for financial data\n",
    "cursor.execute('''\n",
    "CREATE TABLE IF NOT EXISTS financial (\n",
    "    id INTEGER PRIMARY KEY,\n",
    "    Segment TEXT NOT NULL,\n",
    "    Country TEXT NOT NULL,\n",
    "    Product TEXT NOT NULL,\n",
    "    Discount_Band TEXT NOT NULL,\n",
    "    Units_Sold INTEGER NOT NULL,\n",
    "    Manufacturing_Price REAL NOT NULL,\n",
    "    Sale_Price REAL NOT NULL,\n",
    "    Gross_Sales REAL NOT NULL,\n",
    "    Discounts REAL NOT NULL,\n",
    "    Sales REAL NOT NULL,\n",
    "    COGS REAL NOT NULL,\n",
    "    Profit REAL NOT NULL,\n",
    "    Date TEXT NOT NULL,\n",
    "    Month_Number INTEGER NOT NULL,\n",
    "    Month_Name TEXT NOT NULL,\n",
    "    Year INTEGER NOT NULL\n",
    ")\n",
    "''')\n",
    "conn.commit()\n",
    "\n",
    "# Function to insert financial data\n",
    "def insert_financial(segment, country, product, discount_band, units_sold, \n",
    "                           manufacturing_price, sale_price, gross_sales, \n",
    "                           discounts, sales, cogs, profit, date, month_number, \n",
    "                           month_name, year):\n",
    "    cursor.execute('''\n",
    "    INSERT INTO financial (Segment, Country, Product, Discount_Band, \n",
    "    Units_Sold, Manufacturing_Price, Sale_Price, Gross_Sales, Discounts, \n",
    "    Sales, COGS, Profit, Date, Month_Number, Month_Name, Year)\n",
    "    VALUES (?, ?, ?, ?, ?, ?, ?, ?, ?, ?, ?, ?, ?, ?, ?, ?)\n",
    "    ''', (segment, country, product, discount_band, units_sold, \n",
    "          manufacturing_price, sale_price, gross_sales, discounts, \n",
    "          sales, cogs, profit, date, month_number, month_name, year))\n",
    "    conn.commit()\n",
    "\n",
    "# Insert predefined financial records\n",
    "data_entries = [\n",
    "    (\"Government\", \"USA\", \"Product A\", \"No Discount\", 100, 20.00, 25.00, 2500.00, 0.00, 2500.00, 2000.00, 500.00, \"2023-01-15\", 1, \"January\", 2023),\n",
    "    (\"Mid Market\", \"Canada\", \"Product B\", \"Low Discount\", 150, 15.00, 20.00, 3000.00, 300.00, 2700.00, 2250.00, 450.00, \"2023-02-20\", 2, \"February\", 2023),\n",
    "    (\"Enterprise\", \"Mexico\", \"Product C\", \"Medium Discount\", 200, 10.00, 15.00, 3000.00, 600.00, 2400.00, 2000.00, 400.00, \"2023-03-10\", 3, \"March\", 2023),\n",
    "    (\"Small Market\", \"USA\", \"Product A\", \"High Discount\", 80, 25.00, 30.00, 2400.00, 480.00, 1920.00, 2000.00, -80.00, \"2023-04-05\", 4, \"April\", 2023),\n",
    "    (\"Corporate\", \"Canada\", \"Product B\", \"No Discount\", 120, 18.00, 24.00, 2880.00, 0.00, 2880.00, 2160.00, 720.00, \"2023-05-12\", 5, \"May\", 2023),\n",
    "]\n",
    "\n",
    "for entry in data_entries:\n",
    "    insert_financial(*entry)\n",
    "\n",
    "# Function to fetch financial data\n",
    "def fetch_financial_data():\n",
    "    cursor.execute('SELECT * FROM financial')\n",
    "    return cursor.fetchall()\n",
    "\n",
    "# Function to export data to Excel\n",
    "def export_to_excel(data):\n",
    "    workbook = xlwt.Workbook()\n",
    "    sheet = workbook.add_sheet(\"Financial Data\")\n",
    "\n",
    "    # Define the header\n",
    "    headers = [\"ID\", \"Segment\", \"Country\", \"Product\", \"Discount Band\", \n",
    "               \"Units Sold\", \"Manufacturing Price\", \"Sale Price\", \n",
    "               \"Gross Sales\", \"Discounts\", \"Sales\", \"COGS\", \n",
    "               \"Profit\", \"Date\", \"Month #\", \"Month Name\", \"Year\"]\n",
    "\n",
    "    # Write the header\n",
    "    for col_num, header in enumerate(headers):\n",
    "        sheet.write(0, col_num, header)\n",
    "\n",
    "    # Write the data\n",
    "    for row_num, row in enumerate(data, start=1):\n",
    "        for col_num, value in enumerate(row):\n",
    "            sheet.write(row_num, col_num, value)\n",
    "\n",
    "    # Save the workbook\n",
    "    workbook.save(\"C:/Users/leno/financial.xls\")\n",
    "\n",
    "# Fetch financial data\n",
    "financial_data = fetch_financial_data()\n",
    "\n",
    "# Export financial data to Excel\n",
    "export_to_excel(financial_data)\n",
    "\n",
    "\n",
    "\n",
    "# Close the connection\n",
    "conn.close()\n",
    "\n",
    "print(\"Data exported to financial.xls successfully.\")\n"
   ]
  },
  {
   "cell_type": "code",
   "execution_count": 1,
   "metadata": {},
   "outputs": [],
   "source": [
    "import os"
   ]
  },
  {
   "cell_type": "code",
   "execution_count": 3,
   "metadata": {},
   "outputs": [
    {
     "name": "stdout",
     "output_type": "stream",
     "text": [
      "CMFileHandling.txt\n",
      "CMFileHandling1.txt\n",
      "CMFileHandlingNew.txt\n",
      "combined_transactions.csv\n",
      "data.csv\n",
      "file.txt\n",
      "FileHandling.txt\n",
      "FileHandling1.txt\n",
      "financial_data.csv\n",
      "financial_data_a.csv\n",
      "financial_data_b.csv\n",
      "financial_data_BR1.csv\n",
      "financial_data_BR2.csv\n",
      "financial_model_risk_findings.csv\n",
      "image.jpg\n",
      "Image_Pizza.jpg\n",
      "out.csv\n",
      "quotes.csv\n",
      "stock_prices.csv\n",
      "top-rated-movies.csv\n",
      "topnews.csv\n",
      "transactions.csv\n",
      "untitled.txt\n",
      "untitled1.txt\n",
      "untitled2.txt\n",
      "untitled3.txt\n",
      "untitled4.txt\n",
      "yfinance.csv\n"
     ]
    }
   ],
   "source": [
    "dirname=\"C:/Users/leno\"\n",
    "ext=('.exe','.csv','.jpg','.txt')\n",
    "\n",
    "for files in os.listdir(dirname):\n",
    "    if files.endswith(ext):\n",
    "        print(files)\n",
    "    else:\n",
    "        continue"
   ]
  },
  {
   "cell_type": "code",
   "execution_count": 4,
   "metadata": {},
   "outputs": [
    {
     "name": "stdout",
     "output_type": "stream",
     "text": [
      "Folder size: 85611883\n"
     ]
    }
   ],
   "source": [
    "import os\n",
    "\n",
    "size=0\n",
    "#path=\"C:/Python Data\"\n",
    "\n",
    "# assign folder path\n",
    "Folderpath = 'C:/Python Data'\n",
    "\n",
    "# get size\n",
    "for path, dirs, files in os.walk(Folderpath):\n",
    "\tfor f in files:\n",
    "\t\tfp = os.path.join(path, f)\n",
    "\t\tsize += os.path.getsize(fp)\n",
    "\n",
    "# display size\n",
    "print(\"Folder size: \" + str(size))"
   ]
  },
  {
   "cell_type": "code",
   "execution_count": 5,
   "metadata": {},
   "outputs": [],
   "source": [
    "import difflib"
   ]
  },
  {
   "cell_type": "code",
   "execution_count": 6,
   "metadata": {},
   "outputs": [
    {
     "name": "stdout",
     "output_type": "stream",
     "text": [
      "--- C:/Users/leno/SampleFile1.txt\n",
      "+++ C:/Users/leno/SampleFile2.txt\n",
      "@@ -2,7 +2,40 @@\n",
      " That floats on high o'er vales and hills,\n",
      "\n",
      " When all at once I saw a crowd,\n",
      "\n",
      " A host, of golden daffodils;\n",
      "\n",
      "+Beside the lake, beneath the trees,\n",
      "\n",
      "+Fluttering and dancing in the breeze.\n",
      "\n",
      "+foldils\n",
      "\n",
      " \n",
      "\n",
      "+BY William\n",
      "\n",
      " \n",
      "\n",
      "-Sample File1 missing data during updates\n",
      "\n",
      "-Method 5 : Database connection\n",
      "+Hello \n",
      "\n",
      "+This is Banglore \n",
      "\n",
      "+This is Paris \n",
      "\n",
      "+This is London \n",
      "\n",
      "+\n",
      "\n",
      "+Method 1: Using loops\n",
      "\n",
      "+Method 2: Using Fucntions\n",
      "\n",
      "+Methos 3: Using File Handling\n",
      "\n",
      "+\n",
      "\n",
      "+Approach:\n",
      "\n",
      "+\n",
      "\n",
      "+    1.Opening the input file in the read mode.\n",
      "\n",
      "+    2.Opening the output file in the write mode.\n",
      "\n",
      "+    3.Read lines from the input file and write it in the output file.\n",
      "\n",
      "+\n",
      "\n",
      "+Months Name\n",
      "\n",
      "+1. January\n",
      "\n",
      "+2. Febuary\n",
      "\n",
      "+3. March\n",
      "\n",
      "+4. April\n",
      "\n",
      "+5. May\n",
      "\n",
      "+6. June\n",
      "\n",
      "+7. July\n",
      "\n",
      "+8. August\n",
      "\n",
      "+9. September\n",
      "\n",
      "+10.October\n",
      "\n",
      "+11. November\n",
      "\n",
      "+12. December\n",
      "\n",
      "+\n",
      "\n",
      "+Deleting a line using a text that matches exactly with the line\n",
      "\n",
      "+In this method, after reading the file, each line is checked if it matches with the given text exactly. If it does not match, then it is written in a new file.\n",
      "\n"
     ]
    }
   ],
   "source": [
    "with open('C:/Users/leno/SampleFile1.txt') as file_1: \n",
    "\tfile_1_text = file_1.readlines() \n",
    "\n",
    "with open('C:/Users/leno/SampleFile2.txt') as file_2: \n",
    "\tfile_2_text = file_2.readlines() \n",
    "\n",
    "for line in difflib.unified_diff( \n",
    "\t\tfile_1_text, file_2_text, fromfile='C:/Users/leno/SampleFile1.txt', \n",
    "\t\ttofile='C:/Users/leno/SampleFile2.txt', lineterm=''): \n",
    "\tprint(line) \n"
   ]
  },
  {
   "cell_type": "code",
   "execution_count": 7,
   "metadata": {},
   "outputs": [],
   "source": [
    "import secrets"
   ]
  },
  {
   "cell_type": "code",
   "execution_count": 8,
   "metadata": {},
   "outputs": [
    {
     "name": "stdout",
     "output_type": "stream",
     "text": [
      "585225\n"
     ]
    }
   ],
   "source": [
    "opt_gen=secrets.SystemRandom()\n",
    "otp=opt_gen.randrange(100000,999999)\n",
    "print(otp)"
   ]
  },
  {
   "cell_type": "code",
   "execution_count": null,
   "metadata": {},
   "outputs": [],
   "source": []
  },
  {
   "cell_type": "code",
   "execution_count": 10,
   "metadata": {},
   "outputs": [
    {
     "name": "stdout",
     "output_type": "stream",
     "text": [
      "creating 100 random lottery tickets\n",
      "Lucky 2 lottery tickets are [9254049740, 8532983143]\n"
     ]
    }
   ],
   "source": [
    "import random\n",
    "\n",
    "lottery_tickets_list = []\n",
    "print(\"creating 100 random lottery tickets\")\n",
    "# to get 100 ticket\n",
    "for i in range(100):\n",
    "    # ticket number must be 10 digit (1000000000, 9999999999)\n",
    "    lottery_tickets_list.append(random.randrange(1000000000, 9999999999))\n",
    "    \n",
    "# pick 2 luck tickets\n",
    "winners = random.sample(lottery_tickets_list, 2)\n",
    "print(\"Lucky 2 lottery tickets are\", winners)\n"
   ]
  },
  {
   "cell_type": "code",
   "execution_count": null,
   "metadata": {},
   "outputs": [],
   "source": []
  }
 ],
 "metadata": {
  "kernelspec": {
   "display_name": "Python 3 (ipykernel)",
   "language": "python",
   "name": "python3"
  },
  "language_info": {
   "codemirror_mode": {
    "name": "ipython",
    "version": 3
   },
   "file_extension": ".py",
   "mimetype": "text/x-python",
   "name": "python",
   "nbconvert_exporter": "python",
   "pygments_lexer": "ipython3",
   "version": "3.12.4"
  }
 },
 "nbformat": 4,
 "nbformat_minor": 4
}

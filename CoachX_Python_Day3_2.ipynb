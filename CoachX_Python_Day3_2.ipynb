{
 "cells": [
  {
   "cell_type": "code",
   "execution_count": 1,
   "id": "6ae0e0be-6ff4-48bf-8bcc-7d00d44ae743",
   "metadata": {},
   "outputs": [],
   "source": [
    "list1=[10, 20, 3000, 50, 10, 70, 15, 10.5, 10, 17, 25]"
   ]
  },
  {
   "cell_type": "code",
   "execution_count": 3,
   "id": "75af48d1-7a75-4536-8be2-0d9636e04725",
   "metadata": {},
   "outputs": [],
   "source": [
    "set1 = set(list1)"
   ]
  },
  {
   "cell_type": "code",
   "execution_count": 9,
   "id": "25df0ea5-83ce-4cd2-a119-3b439f40cc9f",
   "metadata": {},
   "outputs": [],
   "source": [
    "set1.add(500)"
   ]
  },
  {
   "cell_type": "code",
   "execution_count": 11,
   "id": "e18aaaab-a0de-4146-885d-5463191aeddb",
   "metadata": {},
   "outputs": [
    {
     "data": {
      "text/plain": [
       "{10, 10.5, 15, 17, 20, 25, 50, 70, 500, 3000}"
      ]
     },
     "execution_count": 11,
     "metadata": {},
     "output_type": "execute_result"
    }
   ],
   "source": [
    "set1"
   ]
  },
  {
   "cell_type": "code",
   "execution_count": 15,
   "id": "2823b84c-5eae-4496-8ea0-cb3c13f9b3aa",
   "metadata": {},
   "outputs": [
    {
     "data": {
      "text/plain": [
       "70"
      ]
     },
     "execution_count": 15,
     "metadata": {},
     "output_type": "execute_result"
    }
   ],
   "source": [
    "set1.pop()"
   ]
  },
  {
   "cell_type": "code",
   "execution_count": 17,
   "id": "9b73d680-0d9c-49b7-b6d9-e093962dcf76",
   "metadata": {},
   "outputs": [
    {
     "data": {
      "text/plain": [
       "{10, 10.5, 15, 17, 20, 25, 50, 500, 3000}"
      ]
     },
     "execution_count": 17,
     "metadata": {},
     "output_type": "execute_result"
    }
   ],
   "source": [
    "set1"
   ]
  },
  {
   "cell_type": "code",
   "execution_count": 19,
   "id": "5e2bba63-2395-4725-a233-9ad2c3984002",
   "metadata": {},
   "outputs": [
    {
     "data": {
      "text/plain": [
       "10"
      ]
     },
     "execution_count": 19,
     "metadata": {},
     "output_type": "execute_result"
    }
   ],
   "source": [
    "set1.pop()"
   ]
  },
  {
   "cell_type": "code",
   "execution_count": 21,
   "id": "70a413e6-597c-4123-be91-9df9e033a640",
   "metadata": {},
   "outputs": [],
   "source": [
    "list1=[10, 20, 3000, 50, 10, 70, 15, 10.5, 10, 17, 25]"
   ]
  },
  {
   "cell_type": "code",
   "execution_count": 23,
   "id": "a559ee2a-ee87-45fb-b542-c1e66ec9e5e4",
   "metadata": {},
   "outputs": [
    {
     "data": {
      "text/plain": [
       "25"
      ]
     },
     "execution_count": 23,
     "metadata": {},
     "output_type": "execute_result"
    }
   ],
   "source": [
    "list1.pop()"
   ]
  },
  {
   "cell_type": "code",
   "execution_count": 27,
   "id": "bf84709b-8e47-43d9-9682-0a18d23f72de",
   "metadata": {},
   "outputs": [
    {
     "data": {
      "text/plain": [
       "50"
      ]
     },
     "execution_count": 27,
     "metadata": {},
     "output_type": "execute_result"
    }
   ],
   "source": [
    "list1.pop(3)"
   ]
  },
  {
   "cell_type": "code",
   "execution_count": 29,
   "id": "a6a63c8f-fefd-4bec-9cd1-93c52cb9d0bd",
   "metadata": {},
   "outputs": [
    {
     "data": {
      "text/plain": [
       "[10, 20, 3000, 10, 70, 15, 10.5, 10, 17]"
      ]
     },
     "execution_count": 29,
     "metadata": {},
     "output_type": "execute_result"
    }
   ],
   "source": [
    "list1"
   ]
  },
  {
   "cell_type": "code",
   "execution_count": 31,
   "id": "57704c56-3bcc-4543-bce2-8cc173593559",
   "metadata": {},
   "outputs": [
    {
     "data": {
      "text/plain": [
       "{10.5, 15, 17, 20, 25, 50, 500, 3000}"
      ]
     },
     "execution_count": 31,
     "metadata": {},
     "output_type": "execute_result"
    }
   ],
   "source": [
    "set1"
   ]
  },
  {
   "cell_type": "code",
   "execution_count": 35,
   "id": "2a353f3c-c1d6-4791-952b-192c28465681",
   "metadata": {},
   "outputs": [
    {
     "data": {
      "text/plain": [
       "10.5"
      ]
     },
     "execution_count": 35,
     "metadata": {},
     "output_type": "execute_result"
    }
   ],
   "source": [
    "set1.pop()"
   ]
  },
  {
   "cell_type": "code",
   "execution_count": 41,
   "id": "ad8dd500-9764-4c88-9356-2648e52d2141",
   "metadata": {},
   "outputs": [
    {
     "name": "stdout",
     "output_type": "stream",
     "text": [
      "{1, 2, 3, 4, 5}\n",
      "{3}\n",
      "{1, 2}\n",
      "{1, 2, 4, 5}\n"
     ]
    }
   ],
   "source": [
    "set_a = {1, 2, 3}\n",
    "set_b = {3, 4, 5}\n",
    "\n",
    "\n",
    "\n",
    "# Union\n",
    "print(set_a | set_b) \n",
    "# Intersection\n",
    "print(set_a & set_b)  \n",
    "\n",
    "# Difference\n",
    "print(set_a - set_b)  \n",
    "\n",
    "# Symmetric Difference\n",
    "print(set_a ^ set_b) \n",
    "\n",
    "\n"
   ]
  },
  {
   "cell_type": "code",
   "execution_count": null,
   "id": "b6b44d7a-46a0-49c4-891d-f5bbf48e25ac",
   "metadata": {},
   "outputs": [],
   "source": []
  }
 ],
 "metadata": {
  "kernelspec": {
   "display_name": "Python 3 (ipykernel)",
   "language": "python",
   "name": "python3"
  },
  "language_info": {
   "codemirror_mode": {
    "name": "ipython",
    "version": 3
   },
   "file_extension": ".py",
   "mimetype": "text/x-python",
   "name": "python",
   "nbconvert_exporter": "python",
   "pygments_lexer": "ipython3",
   "version": "3.12.4"
  }
 },
 "nbformat": 4,
 "nbformat_minor": 5
}

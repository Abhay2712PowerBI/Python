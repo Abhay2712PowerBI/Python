{
 "cells": [
  {
   "cell_type": "code",
   "execution_count": 1,
   "id": "288f3637-4e85-48df-a146-26ceeb01992b",
   "metadata": {},
   "outputs": [
    {
     "name": "stdout",
     "output_type": "stream",
     "text": [
      "if-elif-else example:\n",
      "Day 0: Invalid day\n",
      "Day 1: Monday\n",
      "Day 2: Tuesday\n",
      "Day 3: Wednesday\n",
      "Day 4: Thursday\n",
      "Day 5: Friday\n",
      "Day 6: Saturday\n",
      "Day 7: Sunday\n",
      "Day 8: Invalid day\n",
      "\n"
     ]
    }
   ],
   "source": [
    "#Python Switch Case\n",
    "# Using if-elif-else\n",
    "def if_elif_example(day):\n",
    "    \"\"\"Traditional if-elif-else approach\"\"\"\n",
    "    if day == 1:\n",
    "        return \"Monday\"\n",
    "    elif day == 2:\n",
    "        return \"Tuesday\"\n",
    "    elif day == 3:\n",
    "        return \"Wednesday\"\n",
    "    elif day == 4:\n",
    "        return \"Thursday\"\n",
    "    elif day == 5:\n",
    "        return \"Friday\"\n",
    "    elif day == 6:\n",
    "        return \"Saturday\"\n",
    "    elif day == 7:\n",
    "        return \"Sunday\"\n",
    "    else:\n",
    "        return \"Invalid day\"\n",
    "\n",
    "# Test\n",
    "print(\"if-elif-else example:\")\n",
    "for i in range(0, 9):\n",
    "    print(f\"Day {i}: {if_elif_example(i)}\")\n",
    "print()"
   ]
  },
  {
   "cell_type": "code",
   "execution_count": 3,
   "id": "29b33cd7-f55c-4c1b-b8fa-714f7dfe07f3",
   "metadata": {},
   "outputs": [
    {
     "name": "stdout",
     "output_type": "stream",
     "text": [
      "Dictionary example:\n",
      "Day 0: Invalid day\n",
      "Day 1: Monday\n",
      "Day 2: Tuesday\n",
      "Day 3: Wednesday\n",
      "Day 4: Thursday\n",
      "Day 5: Friday\n",
      "Day 6: Saturday\n",
      "Day 7: Sunday\n",
      "Day 8: Invalid day\n",
      "\n"
     ]
    }
   ],
   "source": [
    "#Using Dictionary Mapping\n",
    "def dictionary_example(day):\n",
    "    \"\"\"Dictionary-based switch-case\"\"\"\n",
    "    days = {\n",
    "        1: \"Monday\",\n",
    "        2: \"Tuesday\",\n",
    "        3: \"Wednesday\",\n",
    "        4: \"Thursday\",\n",
    "        5: \"Friday\",\n",
    "        6: \"Saturday\",\n",
    "        7: \"Sunday\"\n",
    "    }\n",
    "    return days.get(day, \"Invalid day\")\n",
    "\n",
    "# Test\n",
    "print(\"Dictionary example:\")\n",
    "for i in range(0, 9):\n",
    "    print(f\"Day {i}: {dictionary_example(i)}\")\n",
    "print()"
   ]
  },
  {
   "cell_type": "code",
   "execution_count": 5,
   "id": "b2c92fd1-c1de-4264-9cd5-29da932154f0",
   "metadata": {},
   "outputs": [
    {
     "name": "stdout",
     "output_type": "stream",
     "text": [
      "Dictionary with functions example:\n",
      "5 + 3 = 8\n",
      "5 - 3 = 2\n",
      "5 * 3 = 15\n",
      "5 / 3 = 1.67\n",
      "5 / 0 = Cannot divide by zero\n",
      "5 ^ 3 = Invalid operation\n",
      "\n"
     ]
    }
   ],
   "source": [
    "# Using Dictionary with Functions\n",
    "def dictionary_functions_example(operation, a, b):\n",
    "    \"\"\"Dictionary with functions as values\"\"\"\n",
    "    def add(x, y):\n",
    "        return x + y\n",
    "    \n",
    "    def subtract(x, y):\n",
    "        return x - y\n",
    "    \n",
    "    def multiply(x, y):\n",
    "        return x * y\n",
    "    \n",
    "    def divide(x, y):\n",
    "        if y != 0:\n",
    "            return x / y\n",
    "        return \"Cannot divide by zero\"\n",
    "    \n",
    "    operations = {\n",
    "        \"add\": add,\n",
    "        \"subtract\": subtract,\n",
    "        \"multiply\": multiply,\n",
    "        \"divide\": divide\n",
    "    }\n",
    "    \n",
    "    # Get the function from dictionary and execute it\n",
    "    func = operations.get(operation.lower())\n",
    "    if func:\n",
    "        return func(a, b)\n",
    "    else:\n",
    "        return \"Invalid operation\"\n",
    "\n",
    "# Test\n",
    "print(\"Dictionary with functions example:\")\n",
    "print(f\"5 + 3 = {dictionary_functions_example('add', 5, 3)}\")\n",
    "print(f\"5 - 3 = {dictionary_functions_example('subtract', 5, 3)}\")\n",
    "print(f\"5 * 3 = {dictionary_functions_example('multiply', 5, 3)}\")\n",
    "print(f\"5 / 3 = {dictionary_functions_example('divide', 5, 3):.2f}\")\n",
    "print(f\"5 / 0 = {dictionary_functions_example('divide', 5, 0)}\")\n",
    "print(f\"5 ^ 3 = {dictionary_functions_example('power', 5, 3)}\")\n",
    "print()"
   ]
  },
  {
   "cell_type": "code",
   "execution_count": null,
   "id": "73054f95-12fb-42e6-a217-67920affa3a5",
   "metadata": {},
   "outputs": [],
   "source": []
  }
 ],
 "metadata": {
  "kernelspec": {
   "display_name": "Python 3 (ipykernel)",
   "language": "python",
   "name": "python3"
  },
  "language_info": {
   "codemirror_mode": {
    "name": "ipython",
    "version": 3
   },
   "file_extension": ".py",
   "mimetype": "text/x-python",
   "name": "python",
   "nbconvert_exporter": "python",
   "pygments_lexer": "ipython3",
   "version": "3.12.4"
  }
 },
 "nbformat": 4,
 "nbformat_minor": 5
}
